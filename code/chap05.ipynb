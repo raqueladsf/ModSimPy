{
 "cells": [
  {
   "cell_type": "markdown",
   "metadata": {},
   "source": [
    "# Modeling and Simulation in Python\n",
    "\n",
    "Chapter 5: Design\n",
    "\n",
    "Copyright 2017 Allen Downey\n",
    "\n",
    "License: [Creative Commons Attribution 4.0 International](https://creativecommons.org/licenses/by/4.0)\n"
   ]
  },
  {
   "cell_type": "code",
   "execution_count": 5,
   "metadata": {
    "collapsed": true
   },
   "outputs": [],
   "source": [
    "# If you want the figures to appear in the notebook, \n",
    "# and you want to interact with them, use\n",
    "# %matplotlib notebook\n",
    "\n",
    "# If you want the figures to appear in the notebook, \n",
    "# and you don't want to interact with them, use\n",
    "# %matplotlib inline\n",
    "\n",
    "# If you want the figures to appear in separate windows, use\n",
    "# %matplotlib qt5\n",
    "\n",
    "# To switch from one to another, you have to select Kernel->Restart\n",
    "\n",
    "%matplotlib inline\n",
    "\n",
    "from modsim import *"
   ]
  },
  {
   "cell_type": "markdown",
   "metadata": {},
   "source": [
    "### SIR implementation\n",
    "\n",
    "We'll use a `State` object to represent the number or fraction of people in each compartment."
   ]
  },
  {
   "cell_type": "code",
   "execution_count": 6,
   "metadata": {},
   "outputs": [
    {
     "data": {
      "text/html": [
       "<div>\n",
       "<style>\n",
       "    .dataframe thead tr:only-child th {\n",
       "        text-align: right;\n",
       "    }\n",
       "\n",
       "    .dataframe thead th {\n",
       "        text-align: left;\n",
       "    }\n",
       "\n",
       "    .dataframe tbody tr th {\n",
       "        vertical-align: top;\n",
       "    }\n",
       "</style>\n",
       "<table border=\"1\" class=\"dataframe\">\n",
       "  <thead>\n",
       "    <tr style=\"text-align: right;\">\n",
       "      <th></th>\n",
       "      <th>value</th>\n",
       "    </tr>\n",
       "  </thead>\n",
       "  <tbody>\n",
       "    <tr>\n",
       "      <th>S</th>\n",
       "      <td>89</td>\n",
       "    </tr>\n",
       "    <tr>\n",
       "      <th>I</th>\n",
       "      <td>1</td>\n",
       "    </tr>\n",
       "    <tr>\n",
       "      <th>R</th>\n",
       "      <td>0</td>\n",
       "    </tr>\n",
       "  </tbody>\n",
       "</table>\n",
       "</div>"
      ],
      "text/plain": [
       "S    89\n",
       "I     1\n",
       "R     0\n",
       "dtype: int64"
      ]
     },
     "execution_count": 6,
     "metadata": {},
     "output_type": "execute_result"
    }
   ],
   "source": [
    "init = State(S=89, I=1, R=0)\n",
    "init"
   ]
  },
  {
   "cell_type": "markdown",
   "metadata": {},
   "source": [
    "To convert from number of people to fractions, we divide through by the total."
   ]
  },
  {
   "cell_type": "code",
   "execution_count": 7,
   "metadata": {},
   "outputs": [
    {
     "data": {
      "text/html": [
       "<div>\n",
       "<style>\n",
       "    .dataframe thead tr:only-child th {\n",
       "        text-align: right;\n",
       "    }\n",
       "\n",
       "    .dataframe thead th {\n",
       "        text-align: left;\n",
       "    }\n",
       "\n",
       "    .dataframe tbody tr th {\n",
       "        vertical-align: top;\n",
       "    }\n",
       "</style>\n",
       "<table border=\"1\" class=\"dataframe\">\n",
       "  <thead>\n",
       "    <tr style=\"text-align: right;\">\n",
       "      <th></th>\n",
       "      <th>value</th>\n",
       "    </tr>\n",
       "  </thead>\n",
       "  <tbody>\n",
       "    <tr>\n",
       "      <th>S</th>\n",
       "      <td>0.988889</td>\n",
       "    </tr>\n",
       "    <tr>\n",
       "      <th>I</th>\n",
       "      <td>0.011111</td>\n",
       "    </tr>\n",
       "    <tr>\n",
       "      <th>R</th>\n",
       "      <td>0.000000</td>\n",
       "    </tr>\n",
       "  </tbody>\n",
       "</table>\n",
       "</div>"
      ],
      "text/plain": [
       "S    0.988889\n",
       "I    0.011111\n",
       "R    0.000000\n",
       "dtype: float64"
      ]
     },
     "execution_count": 7,
     "metadata": {},
     "output_type": "execute_result"
    }
   ],
   "source": [
    "init /= sum(init)\n",
    "init"
   ]
  },
  {
   "cell_type": "markdown",
   "metadata": {},
   "source": [
    "`make_system` creates a `System` object with the given parameters."
   ]
  },
  {
   "cell_type": "code",
   "execution_count": 8,
   "metadata": {
    "collapsed": true
   },
   "outputs": [],
   "source": [
    "def make_system(beta, gamma):\n",
    "    \"\"\"Make a system object for the SIR model.\n",
    "    \n",
    "    beta: contact rate in days\n",
    "    gamma: recovery rate in days\n",
    "    \n",
    "    returns: System object\n",
    "    \"\"\"\n",
    "    init = State(S=89, I=1, R=0)\n",
    "    init /= sum(init)\n",
    "\n",
    "    t0 = 0\n",
    "    t_end = 7 * 14\n",
    "\n",
    "    return System(init=init, t0=t0, t_end=t_end,\n",
    "                  beta=beta, gamma=gamma)"
   ]
  },
  {
   "cell_type": "markdown",
   "metadata": {},
   "source": [
    "Here's an example with hypothetical values for `beta` and `gamma`."
   ]
  },
  {
   "cell_type": "code",
   "execution_count": 15,
   "metadata": {
    "collapsed": true
   },
   "outputs": [],
   "source": [
    "tc = 3      # time between contacts in days \n",
    "tr = 4      # recovery time in days\n",
    "\n",
    "beta = 1 / tc      # contact rate in per day\n",
    "gamma = 1 / tr     # recovery rate in per day\n",
    "\n",
    "system = make_system(beta, gamma)"
   ]
  },
  {
   "cell_type": "markdown",
   "metadata": {},
   "source": [
    "The update function takes the state during the current time step and returns the state during the next time step."
   ]
  },
  {
   "cell_type": "code",
   "execution_count": 10,
   "metadata": {
    "collapsed": true
   },
   "outputs": [],
   "source": [
    "def update1(state, system):\n",
    "    \"\"\"Update the SIR model.\n",
    "    \n",
    "    state: State with variables S, I, R\n",
    "    system: System with beta and gamma\n",
    "    \n",
    "    returns: State object\n",
    "    \"\"\"\n",
    "    s, i, r = state\n",
    "\n",
    "    infected = system.beta * i * s    \n",
    "    recovered = system.gamma * i\n",
    "    \n",
    "    s -= infected\n",
    "    i += infected - recovered\n",
    "    r += recovered\n",
    "    \n",
    "    return State(S=s, I=i, R=r)"
   ]
  },
  {
   "cell_type": "markdown",
   "metadata": {},
   "source": [
    "To run a single time step, we call it like this:"
   ]
  },
  {
   "cell_type": "code",
   "execution_count": 11,
   "metadata": {},
   "outputs": [
    {
     "data": {
      "text/html": [
       "<div>\n",
       "<style>\n",
       "    .dataframe thead tr:only-child th {\n",
       "        text-align: right;\n",
       "    }\n",
       "\n",
       "    .dataframe thead th {\n",
       "        text-align: left;\n",
       "    }\n",
       "\n",
       "    .dataframe tbody tr th {\n",
       "        vertical-align: top;\n",
       "    }\n",
       "</style>\n",
       "<table border=\"1\" class=\"dataframe\">\n",
       "  <thead>\n",
       "    <tr style=\"text-align: right;\">\n",
       "      <th></th>\n",
       "      <th>value</th>\n",
       "    </tr>\n",
       "  </thead>\n",
       "  <tbody>\n",
       "    <tr>\n",
       "      <th>S</th>\n",
       "      <td>0.985226</td>\n",
       "    </tr>\n",
       "    <tr>\n",
       "      <th>I</th>\n",
       "      <td>0.011996</td>\n",
       "    </tr>\n",
       "    <tr>\n",
       "      <th>R</th>\n",
       "      <td>0.002778</td>\n",
       "    </tr>\n",
       "  </tbody>\n",
       "</table>\n",
       "</div>"
      ],
      "text/plain": [
       "S    0.985226\n",
       "I    0.011996\n",
       "R    0.002778\n",
       "dtype: float64"
      ]
     },
     "execution_count": 11,
     "metadata": {},
     "output_type": "execute_result"
    }
   ],
   "source": [
    "state = update1(init, system)\n",
    "state"
   ]
  },
  {
   "cell_type": "markdown",
   "metadata": {},
   "source": [
    "Now we can run a simulation by calling the update function for each time step."
   ]
  },
  {
   "cell_type": "code",
   "execution_count": 12,
   "metadata": {
    "collapsed": true
   },
   "outputs": [],
   "source": [
    "def run_simulation(system, update_func):\n",
    "    \"\"\"Runs a simulation of the system.\n",
    "    \n",
    "    system: System object\n",
    "    update_func: function that updates state\n",
    "    \n",
    "    returns: State object for final state\n",
    "    \"\"\"\n",
    "    state = system.init\n",
    "    for t in linrange(system.t0, system.t_end):\n",
    "        state = update_func(state, system)\n",
    "    return state"
   ]
  },
  {
   "cell_type": "markdown",
   "metadata": {},
   "source": [
    "The result is the state of the system at `t_end`"
   ]
  },
  {
   "cell_type": "code",
   "execution_count": 13,
   "metadata": {
    "scrolled": true
   },
   "outputs": [
    {
     "data": {
      "text/html": [
       "<div>\n",
       "<style>\n",
       "    .dataframe thead tr:only-child th {\n",
       "        text-align: right;\n",
       "    }\n",
       "\n",
       "    .dataframe thead th {\n",
       "        text-align: left;\n",
       "    }\n",
       "\n",
       "    .dataframe tbody tr th {\n",
       "        vertical-align: top;\n",
       "    }\n",
       "</style>\n",
       "<table border=\"1\" class=\"dataframe\">\n",
       "  <thead>\n",
       "    <tr style=\"text-align: right;\">\n",
       "      <th></th>\n",
       "      <th>value</th>\n",
       "    </tr>\n",
       "  </thead>\n",
       "  <tbody>\n",
       "    <tr>\n",
       "      <th>S</th>\n",
       "      <td>0.520453</td>\n",
       "    </tr>\n",
       "    <tr>\n",
       "      <th>I</th>\n",
       "      <td>0.000615</td>\n",
       "    </tr>\n",
       "    <tr>\n",
       "      <th>R</th>\n",
       "      <td>0.478933</td>\n",
       "    </tr>\n",
       "  </tbody>\n",
       "</table>\n",
       "</div>"
      ],
      "text/plain": [
       "S    0.520453\n",
       "I    0.000615\n",
       "R    0.478933\n",
       "dtype: float64"
      ]
     },
     "execution_count": 13,
     "metadata": {},
     "output_type": "execute_result"
    }
   ],
   "source": [
    "run_simulation(system, update1)"
   ]
  },
  {
   "cell_type": "markdown",
   "metadata": {},
   "source": [
    "**Exercise**  Suppose the time between contacts is 4 days and the recovery time is 5 days.  After 14 weeks, how many students, total, have been infected?\n",
    "\n",
    "Hint: what is the change in `S` between the beginning and the end of the simulation?"
   ]
  },
  {
   "cell_type": "code",
   "execution_count": 16,
   "metadata": {},
   "outputs": [
    {
     "data": {
      "text/html": [
       "<div>\n",
       "<style>\n",
       "    .dataframe thead tr:only-child th {\n",
       "        text-align: right;\n",
       "    }\n",
       "\n",
       "    .dataframe thead th {\n",
       "        text-align: left;\n",
       "    }\n",
       "\n",
       "    .dataframe tbody tr th {\n",
       "        vertical-align: top;\n",
       "    }\n",
       "</style>\n",
       "<table border=\"1\" class=\"dataframe\">\n",
       "  <thead>\n",
       "    <tr style=\"text-align: right;\">\n",
       "      <th></th>\n",
       "      <th>value</th>\n",
       "    </tr>\n",
       "  </thead>\n",
       "  <tbody>\n",
       "    <tr>\n",
       "      <th>S</th>\n",
       "      <td>0.609458</td>\n",
       "    </tr>\n",
       "    <tr>\n",
       "      <th>I</th>\n",
       "      <td>0.004450</td>\n",
       "    </tr>\n",
       "    <tr>\n",
       "      <th>R</th>\n",
       "      <td>0.386091</td>\n",
       "    </tr>\n",
       "  </tbody>\n",
       "</table>\n",
       "</div>"
      ],
      "text/plain": [
       "S    0.609458\n",
       "I    0.004450\n",
       "R    0.386091\n",
       "dtype: float64"
      ]
     },
     "execution_count": 16,
     "metadata": {},
     "output_type": "execute_result"
    }
   ],
   "source": [
    "run_simulation(system, update1)"
   ]
  },
  {
   "cell_type": "markdown",
   "metadata": {},
   "source": [
    "### Using Series objects"
   ]
  },
  {
   "cell_type": "markdown",
   "metadata": {},
   "source": [
    "If we want to store the state of the system at each time step, we can use one `TimeSeries` object for each state variable."
   ]
  },
  {
   "cell_type": "code",
   "execution_count": 19,
   "metadata": {
    "collapsed": true
   },
   "outputs": [],
   "source": [
    "def run_simulation(system, update_func):\n",
    "    \"\"\"Runs a simulation of the system.\n",
    "    \n",
    "    Add three Series objects to the System: S, I, R\n",
    "    \n",
    "    system: System object\n",
    "    update_func: function that updates state\n",
    "    \"\"\"\n",
    "    S = TimeSeries()\n",
    "    I = TimeSeries()\n",
    "    R = TimeSeries()\n",
    "\n",
    "    state = system.init\n",
    "    t0 = system.t0\n",
    "    S[t0], I[t0], R[t0] = state\n",
    "    \n",
    "    for i in linrange(system.t0, system.t_end):\n",
    "        state = update_func(state, system)\n",
    "        S[t+1], I[t+1], R[t+1] = state\n",
    "    \n",
    "    system.S = S\n",
    "    system.I = I\n",
    "    system.R = R"
   ]
  },
  {
   "cell_type": "markdown",
   "metadata": {},
   "source": [
    "Here's how we call it."
   ]
  },
  {
   "cell_type": "code",
   "execution_count": 20,
   "metadata": {},
   "outputs": [],
   "source": [
    "tc = 3      # time between contacts in days \n",
    "tr = 4      # recovery time in days\n",
    "\n",
    "beta = 1 / tc      # contact rate in per day\n",
    "gamma = 1 / tr     # recovery rate in per day\n",
    "\n",
    "system = make_system(beta, gamma)\n",
    "run_simulation(system, update1)"
   ]
  },
  {
   "cell_type": "markdown",
   "metadata": {},
   "source": [
    "And then we can plot the results."
   ]
  },
  {
   "cell_type": "code",
<<<<<<< HEAD
   "execution_count": 21,
=======
   "execution_count": 13,
>>>>>>> 49073fbf9b890181992466a15932c049a36b0bc4
   "metadata": {
    "collapsed": true
   },
   "outputs": [],
   "source": [
    "def plot_results(S, I, R):\n",
    "    \"\"\"Plot the results of a SIR model.\n",
    "    \n",
    "    S: TimeSeries\n",
    "    I: TimeSeries\n",
    "    R: TimeSeries\n",
    "    \"\"\"\n",
    "    plot(S, '--', color='blue', label='Susceptible')\n",
    "    plot(I, '-', color='red', label='Infected')\n",
    "    plot(R, ':', color='green', label='Recovered')\n",
    "    decorate(xlabel='Time (days)',\n",
    "             ylabel='Fraction of population')"
   ]
  },
  {
   "cell_type": "markdown",
   "metadata": {},
   "source": [
    "Here's what they look like."
   ]
  },
  {
   "cell_type": "code",
<<<<<<< HEAD
   "execution_count": 22,
   "metadata": {},
   "outputs": [
    {
     "name": "stdout",
     "output_type": "stream",
     "text": [
      "Saving figure to file chap05-fig01.pdf\n"
     ]
    },
    {
     "data": {
      "image/png": "iVBORw0KGgoAAAANSUhEUgAAAZUAAAETCAYAAAD+spv+AAAABHNCSVQICAgIfAhkiAAAAAlwSFlz\nAAALEgAACxIB0t1+/AAAIABJREFUeJzs3Xd4VFX6wPHvpBeSkIQaOgkepIciUiJNFBTEhg1RUVzb\nroqy0iyAKAqWXWVZ1hULYi/YYFVAQUVF/KEISg7NgEAEQ4AkkD7z++PMJFOScANJJgnv53nOMzP3\n3rnzhjJvTrc5HA6EEEKIqhDg7wCEEELUH5JUhBBCVBlJKkIIIaqMJBUhhBBVRpKKEEKIKiNJRQgh\nRJUJ8ueHK6UWAUFa64kVXNMb+CeQDOwDHtZaL6mhEIUQQlSCX2oqSimbUmo2cMsJrmsMfApsBHoC\nzwCLlVLnVX+UQgghKqvGaypKqfbAYqALsOcEl08EjgJ3aa3tQKpSqicwGfisgs8IBfoA6UBxVcQt\nhBCngUCgObBBa51/MjfwR/NXf+B34GrgjRNcmwJ86UwoLmuAhUopm9a6vOUA+gBfnWqgQghxmkoB\nvj6ZN9Z4UtFaLwWWAiilTnR5S+BHr2P7gQggHsgo533pAK+++irNmjU76ViFEOJ08scffzBu3Dhw\nfoeeDL921FsQAeR5HXNVycIqeF8xQLNmzWjZsmV1xCWEEPXZSXcb1PakkguEeh1zvT52MjdMT4eX\nXoKkJOjQwZTIyFMJUQghhEttTyq/YzqN3CUAOZgO/Erbvh3S0kxZtQpsNmjRAjp2BKVMCfVOY0II\nISyp7Unla2CCV6f8EGCdV+e9ZTt2eL52OGDvXlNWrYLAQEhMhE6doEcPaO6d0oQQQpSrViUVpVQI\nEAdkaq0LMEOP7wMWKaX+AZwLXAOMONnPuPJK6N3b1Fi2b4fdu8Hulp6Ki2HbNlOOHIGrrz6Vn0gI\nIU4vtSqpYIYbf4GpjazRWh9QSo3ATHr8EdgNXKe1/vxkPyAyErp1MwUgL8/UXlJTYetWU2Nx6drV\n9/0rV0JcHHTpIs1kQgjhza9JRWs92Ov1GsDmdew74KzqiiEszCSILl3M66NHTXL59VfTv+IuPx8+\n+AAKCyEkxCSmXr1M8gkOrq4IhRCi7qhtNRW/i4mBs882xduvv5qEAlBQAD/8YEp4uEkuZ59tRpXZ\nbL7vFUKI04EklUpo1QpGjYL/+z8zNNklNxe+/tqURo1gwADo1w9iY/0XqxBC+IMklUpo1AhGjzZl\n/35TS1m/HjLc5vVnZJgmstRUuOce/8UqhBD+IEnlJCUkwEUXmQSzaxd8951JMsePm/MDBvi+x26H\nANnBRghRj0lSOUU2m5nXkpgIV1wBP/0EGzZAcrLndQ4HPPIItG4NQ4eapjQhhKhv5PfmKhQcDH36\nwO23m9Fh7n791QxX/uYbmDMHnn4atmwxyUYIYc3777/P5ZdfTo8ePUhOTuaqq65ixYoV/g7LsvT0\ndJYvX17yevz48cyYMQOA9957j06dOlX4fqUUH3zwQbXGeKqkplJDfv3V83VqqikJCTBihElG0jQm\nRPnefPNNHn/8ce6//3569epFYWEhK1eu5J577iE/P59LLrnE3yGe0PTp02natCkXXnghAM8++yxB\nQfXra7h+/TS12NixZib/6tVm9JhrFv/+/fDCC/Dhhya59OsH9ezfmBBV4s033+SKK67g0ksvLTmW\nlJREWloaS5YsqRNJxeHVNNGwYUM/RVJ95HfjGtSuHUycaJq/hg3znJGfkQFLl8L995slYoQQngIC\nAti4cSPZ2dkex6dMmcKzzz4LlN085H5s165d3HjjjfTs2ZNevXpx++23s9dtGY2MjAzuvfdezjrr\nLPr06cOdd97JwYMHS86/9dZbnH/++XTr1o3Ro0ezbNmyknPr16+nU6dOfPLJJwwdOpTk5GRuueUW\n0p3zD6ZOncq3337LsmXLSvaScm/+cnn11VcZOHAgycnJ3H333WRmZpb7Z1JRPP4iScUP4uNNp/5j\nj5nRY+5L7x89apaBEUJ4uummm/j5559JSUnh1ltvZfHixWzdupW4uDjL+yZNnjyZhIQEli1bxquv\nvsrhw4eZPn06AEVFRdx4443s3buX5557jqVLl5KRkcGdd94JwGuvvcbTTz/NpEmT+Pjjj5k4cSKP\nPPKIxxd5cXExTz75JHPmzOHVV1/l6NGjTJw4kaKiImbMmEHv3r0ZOXIkX39d9qaKxcXFvPvuuyxc\nuJDFixezfft2pk2bVua1VuLxB2lo8aOICDOZ8txz4csv4bPPoHt3Mx/GXVGRWT1ZZuqLqvbRR/Dx\nx9auTUmBa6/1PLZ0KXxlcePuUaPML1Ena+TIkTRt2pSXX36ZdevW8cUXXwDQqVMn5s2bR4cOHU54\nj927dzNgwABatGhBUFAQ8+fPJ8M50ezbb79Fa82qVato5RyeOWfOHN577z3y8/NZtGgRf/3rXxkx\nwqxn27p1a/bv38+iRYs8mt6mTZtG//79AZg3bx7Dhw/n22+/JSUlheDgYMLCwmjcuHG5Mc6fP5/E\nxEQAHnroIcaPH8/u3btp06aNx3VW46lpklRqgbAwOO88GDTIJBBv//ufGSl22WVwxhk1H58QtUXP\nnj3p2bMnxcXF/PLLL3z++ecsXbqUm2++mc8+++yE77/rrrt4/PHHee211zj77LMZPHhwSaf5tm3b\niIuLK0koAO3bt2fy5MlkZmZy4MABHn/8cZ544omS80VFRRQXF1NQUFBy7KyzSpcqbN26NXFxcWzb\nto2UlJQTxhcTE1OSUAC6OBcl3L59u0dSsRJPiPcQ1BoiSaUWCQ31Xfk4O9usjJyfD08+aWoyl10G\nTZv6J0Yh/CE9PZ3//Oc/3HHHHTRu3JjAwEC6detGt27d6N27NzfddBNaa5/3FXn9lnbddddxwQUX\n8MUXX/DNN98wd+5cXnjhBT744IMKR2EFO1eMfeCBBzyShov7e73vY7fbCbA4tNP7OlfHfrDXirWV\niaemSVKp5XbtMnu8uGzaBJs3m1rNRReZJjQhTpZr2aGTde21vk1i1SE0NJR33nmHNm3aMGHCBI9z\n0dHR2Gw24uPjCQ4OJicnp+Tc7t27S54fPnyYBQsWcPPNNzN27FjGjh3Lzz//zNixY0lNTSUxMZHM\nzEz27dtHixYtANi5cyfjxo3jnXfeoWnTpuzdu5exY8eW3PP1119n69atzJ49u+TYli1b6N27NwC/\n/fYbR44c4cwzzwTAdoI27CNHjpCenk5z5+6AGzduxGazkZSU5HFdVFSU5XhqmnTU13Ldu5vRYu6r\nJtvt8MUXZqTY2rWem4wJUR/FxcVx00038eSTT/Lss8+itWb37t2sXLmSadOmcckll5CQkECPHj14\n6623SE1N5ZdffuGhhx4qaQaKiYnhyy+/5MEHHyQ1NZXdu3fz3nvvER0dTbt27ejfvz+dOnViypQp\nbNmyhdTUVB544AESExNp2bIlt912Gy+99BJvvvkme/bs4aOPPuKxxx7z6R+ZNWsWGzduZPPmzdx3\n33107dq1pDYRGRnJ3r172bdvX5k/p81mY9KkSWzevJn169cze/ZsRo8eXZLk3FmNp6ZJTaUOiI2F\nCRPMMOS33y4dcnzsGLz2munkv+Yas1SMEPXVpEmTaNOmDW+99RYvvfQS+fn5tG7dmksuuYQbbrgB\ngJkzZzJz5kzGjh1LkyZNuOuuuzhw4ABgmpb+85//8NhjjzF+/HgKCgro2rUrixcvJioqCoB///vf\nPPLII4wfP56QkBAGDhxYMjrs6quvpqCggMWLF/Pwww/TtGlTbr/9dv7yl794xHnxxRdz9913k5OT\nw5AhQ5gxY0ZJs9a4ceOYPHkyF1xwAatWrfL5GRs3bszw4cNLRoyNHDmy5PO9WY2nptm8J+PUB0qp\ntsBvq1evtjzUsK5wOMz6Ym+/DYcOeZ67/XZTsxFC1Lz169dz3XXXsXbtWpo1a+bvcE7K3r17GTZs\nGEA7rXXaydxDaip1jM1mFqvs0sV04K9YYTYOa9wYTrBskBBCVDtJKnVUcDBccAH07WtqLQMH+m5p\n7HDI3BYhRM2SpFLHxcfDrbf6Hnc4YNEis2DlBRf4JhwhRNXq27dvmcOaTzeSVOqpH380fS8//QQb\nN8L48eA1KlEIIaqcDCmup/7v/0qf//EHzJ8Pr79uJlEKIUR1kaRST02caIYZh4WVHluzBmbNMvu4\nCCFEdbDU/KWUCgOmAaOASHyTkUNrrao4NnEKbDYz675bN3j1VTMLH8ww5KefNucuu8x3WRghhDgV\nVvtU/glMBNYAWwCZw11HxMbCHXfA99/DG2/A8ePm+Nq18MsvcMMNYGFxVyGEsMRqUrkcmK61frw6\ngxHVw2YzQ487djS1lk2bzPGMDLMTpSQVIURVsdqnEgJ8X52BiOoXEwO33WaWfAkPhwYNYNw4f0cl\nhKhPrCaVz4CR1RmIqBk2m1mccuZMM7/FueRRiaIiWaBS1E5Tp04tWePLijlz5pCcnEyvXr1KNuI6\nWQ6Hg/fff59D3msjVVKnTp147733TuketZ3V5q+lwH+VUo2Ab4Dj3hdorV+rysBE9WrY0BRv779v\nltu/8UbfHSiFqCt27NjBK6+8wqxZsxg4cCCNTvEf88aNG5kyZQqrV6+uogjrL6tJ5V3n4w3O4s0B\nSFKp47SGVavMbPyHH4arrzZ9MbLUi6hrjh49CsCAAQOqZFHZ+rjwbnWx2vzV7gSlvdUPVEoFKqXm\nKqXSlVI5Sql3lFLl7mOolBqqlPpeKXVMKbVTKXWfUkq+5qpBenppAsnLgxdfhOefLx0xJkRtMXTo\nUF544QVuvfVWunfvzoABA1iwYAEA7733Htdccw0A5557LlOnTgXMdsE33XQT3bt355xzzuHBBx8k\nKyur5J6FhYU8/fTTDBo0iB49enDVVVfx008/sXfvXsY5Ox+HDRvGs88+a+l+R44c4d5776VXr14M\nHDiQZcuW1cifjb9ZqqlorUu2T1NKRQJRwCGtdeFJfOZM4HrgOuAQsBBTExrofaFSKgn4GHgMuAro\nCbwMHAP+dRKfLSoweDC0bQuLF8PBg+bYDz/Azp1w000ySqzeWbkSPvrIP8sshIaaLSeHDz/pW/zz\nn/9k+vTpzJgxg08++YQnnniCs88+mwsuuICYmBhuv/123n77bdq1a8eBAwcYP348l156KTNmzCAr\nK4t58+bx17/+lSVLlgCmD2b16tXMnDmTDh068NJLLzFx4kQ++eQTFi5cWHK/xMRES/e76667yMzM\n5PnnnycwMJBZs2ZR7L6Naz1leUa9UmqwUmo9cBTYB+Qppb5VSg2rxD1CgLsww5NXaq03YpLFAKVU\n/zLeMgLI1VrP1lrv0lq/AywHzrf6maJy2rY1O0qmpJQeO3wYnnwSPvjAc2tjUcetXOm/dXvy883n\nn4IhQ4Zw5ZVX0qpVK26++Waio6P56aefCAsLIyYmBjA7RkZFRfHaa6/RsmVLpkyZQvv27enRowdP\nP/0069ev58cffyQnJ4d3332Xe+65h3PPPZc2bdowY8YMxo4dS1ZWlsf9IiMjT3i/nTt38t133/HQ\nQw+RnJxMt27dePzx02NGhtUZ9edgRoClAg8CB4AE4Argf0qpYVrrryzcqgemlrPGdUBrnaaUSgNS\nMIMA3P0JxCmlrgbeBDoB52BqN6KahIaafcc7d4ZXXjE7TDocZu+W1FRTa5FO/Hpg+HD/1lROoZYC\n0LZtW4/XUVFRFBaW3XiydetWtm7dSnJyss+5nTt3EhQURGFhId26dSs5HhQUxJQpUwDIzMys1P0i\nIyMB6Ny5c8nxpKSkkuP1mdWO+oeBVcCFWuuSHiul1BxMzWEmYKXG4uox896geT/Qqozr3wUWA68C\nrwCBwFvAHItxi1OQnAzt2pm+Fdd6Ybt2wcsvw733+jc2UQWGDz/lL3Z/cu097668DvXg4GAGDBjA\n/fff73MuLi6u3D3jy3Oi+61bt67MeIJPgz0orDZ/9Qb+5Z5QAJyv/wX0sXifCMBeRl9MPhBWxvUN\ngbbAPOdnXA8MBx6y+HniFDVsCHfdBZdcAgEBEBJiajFC1CVJSUns3LmThIQE2rRpQ5s2bQgICODR\nRx8lPT2d1q1bExQUxJYtW0reY7fbOf/881m+fDk2ryGQJ7pfx44dAfjxxx9L3rN3716OHDlSMz+w\nH1lNKoeBBuWciwKstrTnAgFKKe8aUiim893b40CR1nqq1vpHrfUSYDIwTSkVb/EzxSkKCIARI2DK\nFLNWWNNyx+oJUTtde+21ZGVlMXXqVLTWbN68mXvuuYe0tDTatm1LREQE11xzDU8//TRr164lLS2N\n2bNnc/ToUfr27VvSbLV161ays7NPeL+2bdsybNgwZs2axffff8/WrVuZMmUKAQH1f2F4qz/h58BM\npVSC+0Hn65mYpjErfnc+Nvc6noBvkxjA2cAPXsfWA8FAa4ufKapI27bQq5fv8S+/NH2uMpRf1FaN\nGzfmxRdfJCMjgyuuuIKJEyfSvHlzXnzxxZJmtL///e+MHDmS6dOnc/HFF7Nz504WL15Mo0aNSEpK\n4vzzz2fSpEk888wzlu73xBNP0LdvX+644w5uuOEGhgwZQuPGjf35x1AjbFYm9SilWmC+3KOBr4E/\ngGaYYcBZwACt9S4L9wnFdL7frrVe6jzWFvgN6Ke1/s7r+k+BfK31RW7HrsRMtIzVWmdRBtc9V69e\nXSUTn0T59u6FuXPN8i6dO5uaTHS0v6MSQpyMvXv3MmzYMIB2Wuu0k7mHpZqK1nofkIwZdRUD9MP0\nd/wLSLaSUJz3yXfe4wml1AilVE/gDWCt1vo7pVSIUqqZc+gxmCX3Ryml7ldKtVdKjQKeAhaWl1BE\nzVq50iQUMEvpP/ww/Pqrf2MSQviP5T3qtdZ/AH+vgs+8H9N8tdT5+Alwh/Ncf+ALYAiwRmu9Qil1\nqfM9UzE1pOeAR6sgDlEFxo83qx9/+ql5nZUF//wnnHcejBkDQZb/hQkh6oNym7+UUtOBF7XW6c7n\nFXForedWeXQnSZq/at7WrfDCCyapuLRpY7Y1btLEf3EJIayriuavin6PnIPpgE/nxPNCHECtSSqi\n5p15Jjz4ILz0ErhGZe7eDXPmwFVXQb9+sjClEKeDcpOK1jqgrOdClCcqCv76V/j8c3j3XbOkS36+\nmSy5bx+MHevvCIUQ1c1SslBKPeg9nNjtXBul1DNVG5aoq2w2GDYMpk0rnc9is5nZ+UKI+s9qDeQh\noEU55/oBf6macER90aoVzJgBAwfChRdCUpK/IxJC1IRym7+UUl9jEgaADfhOKVXe5RuqOC5RD4SG\nmtFhZY0FSU2F+Hg4DeaCCXFaqaijfiJwGSahzMYM5d3rdU0xcAR4v1qiE/WCdwf9kSPw3HNmfsuV\nV0L//tKJL0R9UVFHfSrwCJjdGoHnnZMghTglS5aY5fRdzzdvNotUNihvdTkhMLs9eq8mHBYWRkJC\nAldeeSU33HCDfwLzk+HDh3PRRRfxt7/9zd+heLC68+MsAOcijiGY2guYPplIIEVr/Xy1RCjqnTFj\nICMDDhwwr3/80ewued110LWrf2MTtdvNN9/M9ddfX/L6yJEjvPHGG8ydO5cmTZpwwQUX+DE6AdZH\nf3VVSv0MHMQ0gf3uLLuBX4FF1RahqHfatDG7Sw4eXHosKwsWLIClS/23GaGo/SIiImjcuHFJ6dCh\nAw888ACtW7dmxYoV/g5PYH3013wgHrPs/BrgU+CvwArMxMfB1RCbqMdCQuDqq+Fvf/NcgPKrr2D2\nbNi+3X+xibonODiYwMBAANLT07nzzjvp2bMn/fv3Z9KkSRxwVYsxG2e99NJLnHfeeXTv3p0xY8aw\ndu3akvPbtm3j5ptvpk+fPpx11lncd999JTs/Tp06lfHjx3t89s8//4xSirS0NABWrVrFRRddRNeu\nXRkxYgSLFy/GbrcDZsa6UopFixbRr18/Ro4cSUFBwQljzs/PZ/bs2fTt25ezzjqL5557rlr+HKuC\n1aTSD3hAa/00ZlvfSK31v7XWozGd9HdWV4CifuvSBR56CHr2LD2WkQFPPmm2LxaiIrm5uTz//PPs\n3LmTiy66iOPHjzN+/HhCQ0N54403WLx4MYWFhVx//fUUFBQA8N///pdnnnmG22+/nY8++ogRI0Zw\nxx13sH37dvbu3cvVV19NTEwMr776KgsXLiQ1NZUbb7yR4uJiLr74Yn744QePL/yPPvqI5ORk2rZt\ny9q1a5k8eTLXXXcdy5cv5+9//ztLlixh4ULPHdCXL1/O0qVLeeKJJygqKjphzLNmzWL16tU89dRT\nvPLKK3z//ffs2bOn5v6gK8Hqcn+hgOt3x21Ad7dzLyLNX+IUNGgAf/kLrF8Pb7wBublmGHKL8mZG\niSrzkf6Ij7d9DMCoM0YxWo32OP/2L2+zapfZLunyTpczPNFz++GlPy/lq91fAXBtt2tJaZPicf75\njc+zYZ+ZcXBTz5s4q8VZpxTvwoUL+e9//wuYGkd+fj5KKZ566imGDRvG22+/TW5uLo899lhJzeWp\np56ib9++fPbZZ1x44YUsWbKECRMmcPHFFwNw2223UVRUxPHjx1m2bBnR0dHMnTu3ZOvfp59+mgsu\nuICvvvqKQYMG0bx5c1asWMGECRMoLi5mxYoVJZ3lixYt4uqrr+byyy8HoHXr1hw7dowHHniA22+/\nveTnGDduHImJiebP+AQxDx48mA8//JA5c+YwYMAAAObPn89g9/bjWsRqUtkDtAO+wiSVaKVUG631\nbiAPiKum+MRpwmaDs88GpeCVV8ySL927n/h94vQybtw4rrnmGoqLi1m9ejULFy7k0ksv5cILLwTg\n119/JTMzk969e3u8Lzc3l507d3L48GH+/PNPunXr5nHelRQWLFhA165dPfaST0xMJDY2lm3btjF4\n8GAuuugiPv74YyZMmMC3335LVlZWyQCBrVu3snnzZt54442S99vtdvLy8ti3b1/JtsStWrUqOX+i\nmFu3bk1hYSFdunQpORcbG0vr1rVzn0KrSWUZ8JhSKltrvUwplQo8rJSaC0wCdlZbhOK0Ehtr+llc\ne7S427bNPJ5xRs3GJGqPmJgY2rRpA0D79u0JCAjgkUceIS4ujlGjRhEcHExSUhILFizweW9UVJRH\nsihLWFhYmcftdnvJey+++GL+/e9/k5aWxscff8zQoUOJdnYMBgcHM3HiREaPHu1zj6ZNm3Lw4EEA\nQkNDS46fKGbXMGrvFeVP9LP4i9WkMgvoANyMSTCTnI/jMBMgr6qW6MRpyWYD7/8veXlmaf3DhyEl\nBS67DMLD/RNffTJajfZp8nI3tvNYxnYufyXQa7tdy7Xdri33/MSeE5nYc+IpxViRCRMmsHr1ambN\nmkXfvn3p0KEDb7/9Ng0bNiQmJgaAnJwcJk+ezA033MDZZ59N48aN2bx5M4MGDSq5z/jx4xk0aBCJ\niYl88MEHFBYWlnxp79ixg6NHj5Y0V7Vt25bk5GSWL1/OqlWrmD9/fsl9kpKSSEtLK0l8ACtXrmT5\n8uXMmzevzJ/hRDF37dqVkJAQfvzxRzp06FBy3jUwoLaxuvPjca31pcAlztefAl0xyeRMrfV71Rei\nEPDhhyahgBkhNnOmmd9iYTdsUY8FBATw8MMPk5eXx5w5cxg9ejSxsbHcfffdbN68mW3btnHvvfey\nadOmki/kiRMn8tJLL7F8+XL27NnDwoUL2bRpE4MGDeLaa68lOzubadOmsX37dn744QcmT55Mx44d\n6devX8nnXnLJJSxevJiQkBBSUkr7kW677TaWL1/Oc889R1paGmvWrOHBBx8kLCysZO96byeKOTIy\nkquuuop//OMffP755+zYsYPp06eTl5dXvX+4J6lS+/I5twN2Pd+JNHuJGnLeeWZU2KZN5vWRI7Bo\nEXTrZvZriY/3b3zCfxITE7nlllt49tlnGTNmDC+++CKPPfYY119/PTabjR49evDyyy8T7/xHct11\n15GXl8f8+fPJzMykQ4cOLFq0qCTpvPDCC8yfP5/LLruM8PBwhg4dyt///neP5qaRI0fyyCOPMGrU\nKILctjc955xzmDdvHs899xzPPPMMcXFxXHzxxUyaNKnc+MPCwk4Y85QpUwgLC2PGjBnk5+czduxY\nn36h2qKinR+3Y+agWOHQWpe72mRNk50f6yeHw9ROXn/dc4fJkBAYPdosue8cPCOEOAnVvfPjOqwn\nFSGqnc1m5rN07AjLlsGXX5rjBQVmU7BvvoFrrpGOfCH8qaIFJW+owTiEsCwiAsaNM0OQly6F/fvN\n8fR0+Pe/Ye5cKGcQjxCimlnqU1FK9T/RNVrrb049HCGsS0w0a4h9/jl89JFZM+ziiyWhCOFPVjvq\nv+bETWHSmi1qXGAgDB8OffrAmjVmuLG3nTuhfXvZs0WImmA1qQwp41gDIAUYj9nMSwi/adjQ1FK8\n7doF8+aZpHL55aZ2I4SoPlb3U1lbzqnlSqkc4H5gVJVFJUQVcDjgnXfMc1dySU42yadZM//GJkR9\nZXWV4op8hSx9L2qh4mJTM3GbRsCPP5qJk0uWlE6mFEJUnUpNfizHaCDrhFcJUcOCgsxyLoMGmSHI\nP/xgjjscsG6dWRU5JQVGjgTn6hhCiFNkdfTXZ2UcDgRaAYnA41UZlBBVqVEjuPlmMyt/2TLYutUc\nLyqCL76Ar7+GIUPg0kulM1+IU2W1phKC7+gvB2Yr4XnAC1UZlBDVoU0buPtuSE2F99+H334zxwsL\n4dAhSShCVAWrHfWDqzkOIWpMx44wZQr88otZqHL3bnBuh+Hh+HEz0VIIYV2l+lSUUiMxw4hjgQPA\n51rrL6sjMCGqk81mtjLu3NnUWLyXiMvLgxkzICnJNJslJUlNRggrrPapxAP/A3oD+cCfQBPgAWd/\nyyVa69q5DrMQFbDZzBwWb199ZWoqP/9sSqtWcO650Lu352gyIYQnq/89nsVsJzxaa73cdVApdRGw\nGHgMuNvKjZRSgcAc4AYgCvgEuENrfaCc61sC/wDOB3KBd4DJWuvjFmMXotKcG/SV+P13ePFFM+8l\nJcWUONlEjyzSAAAgAElEQVREWwgfVuepjMR8kS93P6i1/hCYBlxdic+cCVwPXAecA7QE3i3rQqVU\nKLASiAMGAFdiJlmWvYWaEFVk3DgznyUlxXMXyuxsWLECpk+HhQth82aw2/0WphC1jtWkUgQcKedc\nOmZ02AkppUKAu4DpWuuVWuuNmN0jB5SzaOU1QHPgMq31z1rrL4CHgLMsxi3ESWveHK69Fh57zMzC\nb9iw9JzDYTYMW7DAJBYhhGE1qSwEHlVKJbgfVEpFA1MxzWNW9MA0ea1xHXBuBJOGGQDg7Xxgpdb6\nsNv1L2qtJamIGtOggZkgOXcu3HqrGT3mEh1tOvzdFRWZ/hghTkdW+1QSnGWnUuprYD8Qj2mSigLy\n3SZIOrTW55dzH9cYm31ex/djJlJ6OwP4XCn1MHAtZm7Me8D9MjBA1LSAALN2WHIyHDhgJk02aOC7\n2+SmTfDCC9C1K5x1lnl0b0IToj6zmlSSgJ/c3tPa+dx1LBBrS99HAHatdaHX8XygrF0wooGbMCPP\nxgItgAWYkWfXWYxdiCrXtKlZAqYs335rais//mhKaKhJLD17mlpNaGjNxipETbI6+bGspe9PRi4Q\noJQK0loXuR0PBY6VcX0hkAmM11oXAz8opYKBt5VSk7TWh6ooLiGqRHGx6cx3l59v1h374QdTYznz\nTOjRA7p1g6go/8QpRHWp7OTHTsAgIAYzV+VrrbWuxC1+dz42d3sOpmnNu0kM57E8Z0Jx+dX52BaQ\npCJqlcBAmDbNNI99/z1s2GCeuxQWls59sdngnnvgjDP8F68QVc3q5McA4D/AjYD7vGKHUuoVYILW\n+kQ7QwJsArIxiWmp895tMQmirJn5XwE3K6WC3ZrMugDFmM59IWqlpk1h9GgYNQrS0+H//g82boT9\n+0uvCQw065G5c9VqzjxT5sGIuslqTWUqpg9jKvAqZomW5pghv7MpXViyQlrrfKXUQuAJpVQGcBAz\nsmyt1vo755DjOCBTa10ALAL+BixRSs3CdPTPB5ZI05eoC2w2SEgwZfRo+PNP05H/008QFubbv6K1\n2esFzOrKSpmaTIcOJsnIUjGitrOaVG4CHtFaz3c7theYp5QKc563OiHxfiAYU1MJxjmj3nmuP/AF\nZvviNVrrA0qpc4CngY1AjvN90yx+lhC1SuPGZrmXc88te9Kka1l+gIwMU9atM69jY80aZImJZmmZ\nli19R54J4W9Wk0pzYF05576hEl/yzg76e53F+9waPJvX0Fr/ipmvIkS9ElDGLLHWraFTJ9ixAwoK\nPM8dPmz6aDZsMK9TUszkTCFqE6tJZRfQD1hdxrl+mFn1QohT1K+fKUVFkJZmmsO2b4ddu0x/i7t2\n7Xzfv2gRZGWZBTBbtoQWLUyRYcyiplhNKs8Dc5VSx4A3MH0qTTFrfk0HHq2e8IQ4PQUFmaaupCTz\n2m43i1ru3GkSzK5dvqsrOxwmAeXkmOvcxcebZWcSEsxj06amViSTMkVVq8wqxcnAk8ATbsdtmD6O\nR6o4LiGEm4AAM1KsTRsYOrTsa44cMQmlLIcOmbJlS+mxWbOgWbPS10VFZpRa48amNGggAwNE5Vmd\n/FgMXK+UmodZoysOOAx8qbX+pRrjE0JYFBsL8+aZGs3evaXlwAHfQQEBASZxuMvIMMvLuISEmBpO\nfLwZeeYqsbGmeL9fCKjk5EfMhMVdmIRy0PlcCFFLxMSY4r7IZVGR2R9m/34zZ+aPP8wkTO+RYxkZ\nnq8LCsz16WX0mMbGmtWb3e3ZY+bYREeXlqgoUxo0KHtggqh/KjP5cR7wV8wwYFel+JhS6hGt9WPl\nvlkI4VdBQaVzZSoSHm4Wy8zIMPNp8ipYsjU21vdYWhp8+mn574mIMAkmMtJM7rzoIs/z6emQmWni\nCA8314eHm34faYarO6zWVGZi9kH5B2ZDrYOYjvqxwGylVJbWemG1RCiEqBGJiaaA6fTPzTX9MBkZ\nZjhzZqYpR46YkWXesrIqvv/x46VbAsTH+57/5hv47DPf4wEBJrmEhZU+9u0L55zjed2mTSbe0FDT\ndOd6dJXg4NLnoaGyLXR1qczkx9la64fdju0CvlVKZQOTMDPjhRD1gM1magoREWZ4shVnnmma1I4e\nNQkmO9uUrCyTTBxuCzk1aOD7/mNlLSmL6Q86dszzfFnrpa1bZxKLFVdfDYMHex5buNA0DQYFmRIc\n7Pk8MLD09ZAhvon1iy9KmxXLKgEBpc+TkkxydHE4TPOh6zr3YrP5HouI8Ky9ORym2Gz+r9VZTSox\nwPflnPsamFw14Qgh6ir3mo43u90kluxskxzKSirNm5uJn64aTW6uKUVFvteGlbFRhvc8noqElLFX\nbUaG5+KfFUlO9k0qH39c/ug7bw884Pl+ux0ercTEjCee8FzhOjPTbHHt4kpGroTk/jwoCObP971n\nVbGaVD4GbgXKajG9ClhRZREJIeqdgACTSMpKJi7Dh5virbDQ9O+4Sm5u2c1nyckmMeXnm0EGrkdX\nKSwsfV5WUin03uWpAmU1nRUX+x4rj/cgibKW7KmI96AHh9dyvhXdr7qb/aze/kvgEaXUz5jJj+mY\nnR9HAQOBp5RSrjzp0FrPrfJIhRCnpeBgU06094x3c1Zl3XOPSURFRSbBFBV5Pi8uLj3mPr/HZehQ\n8/7iYs9it3s+Fhf71rQcDtPMaLeXFofD872u1w5H2UnJZvNNLmWp7uYxq0llgfMxBphTxnn35i8H\nIElFCFGnlDWirTK8R7NVRkgI3H//yb+/SROzRA+U9q94JyJX7cVK4jkVVic/yghzIYSoA9z7T/xB\nkoUQQogqI0lFCCFElZGkIoQQosrInFIhhKjjHA4HDhzYHXbsDjshgZ5jpu0OO0fzjmJ3mN76+Igy\nxmRXkXKTilJqAfCU1nqXUqo1kK61rsRIbiGEqD9yCnLIL8qnoLiA+Ih4ny/unw/8THZ+NkX2Ivq0\n6ENEcITH+Y/0R2TlZ1FkL+LyTpcTGRLpcf5f3/+LY4XHKLYXM6nfJMKCPMcdT189ncLiQoodxcwb\nPo+ggNKv72JHMXcsN7uyBwYEsvBCzwVOcgtzmbpqKgARwRE8PeLpU/vDqEBFNZWJwJuY5Vh+A84G\nNlRbJEIIcYocDgf5xfkE2gIJDvTcgeyXg7+QnpNOXlEevZr3onlUc4/zr29+nR2ZO8gvzmdCjwkk\nxnkuD/Ds+mdJO5IGwJSBU2gf67lL2rKty9ifvR+ApLgkn6Ty7d5vOXT8EAAXnnGhT1LZdXgXOQVm\nSn5hcaFPUsnKz6KwuLDk53QXYCvtyXDVRtzZ3CanOKjeMcUVJZV04DGl1GeYVYlvVkqNLOdah9e6\nYEIIUaV2Zu7ktyO/kVOQQ9cmXX2+9Jf+vJSv93yNw+FgQvIEzm55tsf5r/d8zcb0jQA0a9DMJ6lk\nHM9gb9ZeAI4V+i5E5l4zcX25u3NPYkV237Vl3GsWZZ0PDCid0Vjs8J2e7544ih3FBFP6eTZs2Gw2\nbNgIDAjE4XB4JJJAWyANwxpis9kIDwr3uXdVqiip3Ac8A8zATGicUMG1DkCSihCiQnaHnaz8LAJs\nAUSHRnuc++b3b1ibtpbsgmyGthvKue3P9Ti/MX0jq3atAiA8KNwnqQTaAkt+gz9eeNzns91/888v\n8l0ozP18QXGBz/mYsBjiwuMIDgz2SAAuXZt0JSEqgeCAYJ9aCMCFHS4kryiPoIAgn58d4JZet2B3\n2AkMCKRBiO96NrOHzCbAFkCALYDQwFCPczabjUWjFvm8xyU0KJTHhz9e7vmqVG5S0Vq/DbwNoJSy\nAwO01uUtKimEEOQX5XMo9xA2bD41gTVpa3hzy5vYHXaGthvKlV2u9DifU5BT0ryUmZvpc2/3L9qy\nahKu5qaQwJAym4A6Ne5EeHA4oYGhtIz2Xbt/TMcxjEgaQWhQKDGhMT7nJ/acWMZPXGq0Gl3h+b4t\n+1Z43jtJemsY1rDC87WF1dFfQ4BfqzMQIUTdcLzwOLmFuT4jiDbs28DzG58HoGfzntzS+xaP85HB\nkSVf9kfyjvjc1/2396x8381Z2sW2Y2i7oUSGRNIhroPP+Qs6XMCoM0aVWYsA6NOiD31a9Cn352oS\n2aTcc8I6q8u0rFVKdVRKzQIGY9YAywC+AubIPvVC1H+7Du9i4YaFZOdn0yG+A5P7e+54ERteunhW\nWTUN12/aDUIa+IycAlOTuG/AfUSFRpVZU+jYqCMdG3UsNz7vjnnhH1a3E+4KrAOOAx8AB4DmwGhg\ntFLqbK31lmqLUghR7Y4VHGP59uXszdpLkb2I+wbc53E+OjSa7PxsAP7I+cPn/Y0iGhEYEEh8eDyN\nIxv7nG8f254FFywo98s/OjS6zL4GUbdYbf56HEgFhmitSxozlVKRwGrgEWBM1YcnhKhKdoedP3L+\n4Pejv3NWi7M8RggFBQTx+W+fl4wcKiwu9EgA8eHxJa+jQ6N9zseExvCvC/7lcU93gQGBBFJ205So\nP6wmlRRgvHtCAdBaH1NKzQMWV3lkQogq5XA4mLJySkl/xRnxZ3g0WYUGhdIksgkHcg7gcDhIz0mn\ndUzrkvM2m405Q+cQExpTZuIoL5mI04vVpHIcyp0x4wD59UOI2uBYwTG2HdrG9sztDG03lEYRjUrO\n2Ww2mjVoVpJU0o6keSQVgDFqDIEBgbSMbkl8uO9SHnVlBJLwH6tJ5VtgqlLqU611nuugUiocM5/l\nm+oITghROS/+9CKbD2wGoHmD5qS0SfE4nxiXyB85f9Auth3hwb6T4Hol9KqROEX9ZTWpTAO+B35T\nSn0I/AE0w3TUR2Oax4QQNeDgsYNsPrCZxpGN6da0m8e5jo06liSV7ZnbfZLKqDNGMUaNkaYqUW2s\nDineqpTqDzyI6ZCPAw4Da4HZlRn5pZQKxGxJfAMQBXwC3KG1PmDhvR8DDbTWg61+nhD1ybo961iy\naQkA3Zp2KzOptItth4pXdG7S2ef97kuFCFEdLP8L01pvBsZWwWfOBK4HrgMOAQuBd4GBFb1JKXUL\ncCEmkQlRrxXbi0nPSfeZ+d0hvnTSnz6kKbIXeSSKltEtmTpwao3FKYS3Gv21RSkVAtwF3Km1Xuk8\ndhWmWa2/1rrMvhmlVBLwKKZvR4h6K68ojze3vMlPf/yE3WHnifOe8Bi22ySyCa1iWhEXHkfXJl19\nVqsVwt9qui7cA9PktcZ1QGudppRKw/TL+CQVZ3PZEsxcmTOApBqIUwi/CA0MZduhbSULIv765690\nb9bd45oZKTOkT0TUWjW9nbCrLr/P6/h+oFU575mGGbb8RHUFJURNO5p3lM92fsbvR3/3OG6z2Tir\nxVmAWfYkv9h3NV1JKKI2q+maSgRgL2MHyXwgzPtipVQv4F6gj9barpSqgRCFqF6rdq3i3V/fxe6w\nM6jtIK7peo3H+XPanEPXpl1p17CdJBBR59R0TSUXCFBKeSezUMBjtr5SKgx4Bbhfa72jhuITotq1\nim5Vslrvhn0bfDZsig2PpX1se0kook6yuqCkDTMEeBQQiW8ycmitz7dwK1ddv7nbc4AEfJvE+gJn\nAo8rpVy7y4RiklIO0ElrvcdK/ELUNIfDwW9HfmPTH5u4uOPFHgnijPgzaBLZhJiwGAa0GuDHKIWo\nelabvx4FpmD2qt8L+O6AY80mIBsYBCwFUEq1BdoCX3pd+z3gvWnCo0AbYBymH0aIWsfhcPDkt0+y\n/dB2AHo060G72HYl5202GzPOmeGzB7kQ9YHVpHID8JTWevKJLqyI1jpfKbUQeEIplQEcxMxTWau1\n/s455DgOyNRa5wIezV5KqSwgV5rDRG1ms9loFNGoJKmsSVvjkVQASSii3rLapxINfFRFn3k/8Cqm\npvIFsBu43HmuP5DufBSi1svOz/YZwQUwrN0wggKCGNB6AMMTh/shMiH8w2pN5RtgAFUwm11rXYQZ\n0XVvGefWAOX2TmqtK94kWogacqzgGCu2r+DL3V/SKKIRDw560KPfpFVMK+afN79k33QhThdWk8oj\nwGvOUVvfYJbC91DebHgh6quv9nxFQXEB+7P3s+nAJno06+FxXhKKOB1ZTSqfOx9nOh/d14awIXuq\niNNMZEgkg9sO5tMdn9IyuiWhgaH+DkmIWsFqUhlSrVEIUUvlFuby2c7PaBzZmP6tPLv6zm1/Lklx\nSXRt0lXmlAjhZHXpe1kZWJx2dh3exYLvF3Cs4BgxYTH0TuhNSGBIyfno0GifpeeFON1ZXqZFKdUR\nmAUMBmKADOAr4GGt9a/VEp0QftQiqkXJsvJH847y3d7vOKfNOX6OSojazdKQYqVUV8xkxEHAB8B8\nzOZaQ4HvneeFqNO8l5EPDQpljBpDo4hG3Jh8IwNbV7jljxAC6zWVx4FUYIjWumSNLqVUJLAas5Pj\nmKoPT4jql5mbyXtb36NZg2aMOmOUx7l+rfrRt2Vf2TFRCIus/k9JAca7JxQArfUxpdQ8YHGVRyZE\nDdh9ZDfzv5lPYXEhwYHBDGg1gNjw2JLzAbYAAmw1ve6qEHWX1f8tx/EcRuxOhhOLOqtVTCuaNWgG\nQGFxIT/98ZOfIxKibrOaVL4FpjqXoy+hlAoH7qOMHRuFqAsCbAFc1eUqWse0ZnL/yQxpJ6PnhTgV\nVpu/pmE66n9TSn0I/AE0A0Zj1gVLqZ7whKgaRfYiPt3xKccKj3FF5ys8ziXFJTE9ZbrMNRGiClid\np7JVKdUfeBDTIR8HHMasBTZba72l+kIU4tTkFOQwb908DuQcwGaz0TuhN+1j23tcIwlFiKpheUiL\n1nozMLYaYxGiWkQGR9IksgkHcg7gcDj4cveXPklFCFE1yk0qSqlrgE+01pnO5xXSWr9WpZEJUUVs\nNhtXd7maPUf3MDJpJIPaDvJ3SELUWxXVVJYCZ2P6Upae4D4OQJKK8LsjeUdYv3c95yWe59GkFR8R\nz6PDHpX5JkJUs4r+h7XDbJjlei5ErfbN79/w1i9vkVuYS3xEPL0Tenucl4QiRPUr93+Z1nq328tB\nwHKt9SHv65RSzTB7xj9Z9eEJYd2uw7vILcwF4M0tb9K9aXeCA4P9HJUQpxer81ReBMrr2eyB2cRL\nCL+67MzLiA2PpXFkY27udbMkFCH8oKKO+o+BTs6XNuB9pVR+GZc2BXZWQ2xClCsrP4sGIQ08llAJ\nDw7nzr530iiikccS9UKImlNRI/Mc4Cbn85uADcCfXtcUA0eAl6s+NCF8ORwONuzfwOubX+fCMy7k\n3PbnepxPiErwU2RCCKi4T+U74DsA5970s7XWv9VUYEKU5Yf9P7B4o1m/dNnWZXRp0qVk7S4hhP9Z\n6lPRWk8AzlRKzXcdU0qdpZRaqZSSxZJEjUlunkyrmFYANAxrSF5Rnp8jEkK4s7pJ1xXAR5T2sQAc\nc77/M6XUiGqITQgfQQFB3Jh8I4PaDuKBQQ/QtmFbf4ckhHBjdfTXDOBfWusLXQe01r9orYcBi4DZ\n1RGcOL3tOryL1btW+xxPiErgmq7XEBYUVsa7hBD+ZHU2WBJwdznnlgETqiYcIcDusLNi+wqWb1uO\nAwetY1rTIb6Dv8MSQlhgtaZyAOhVzrluQGbVhCME2LCxI3MHdocdh8PBG1ve8Nk/XghRO1mtqbwK\nPKSUysHUTA4CjTH7qcwCFlZPeOJ0ZLPZuKHHDcxaM4sW0S2Y0GOCLE0vRB1hNanMBjpikse/3I7b\ngPcw+6wIcVLyi/IJDQr1ONYwrCH3DbiPpg2ayh7xQtQhVjfpKgTGKqW6AAMxm3QdBb7WWm+qxvhE\nPZeakcqLP77IVV2uIrl5sse55lHN/RSVEOJkVWrZVucOjz67PCqlGmitc6osKnFa2LBvA89vfB6A\nV35+hXax7WgY1tDPUQkhToWlpKKUCgHuxKxWHIJp9gLT0R+J6ayPtHivQMwSMDcAUcAnwB1a6wPl\nXH8lMA3ogFmK/3lgvta62Mrnidqrc5POxIXHkZmbiQ0bGcczJKkIUcdZrak8DtwFbAaaALmYdcC6\nYpLMzEp85kzgeuA64BCmn+ZdTLOaB6XUSMwggbuB/wHJwH+BYODhSnymqIUigiO4MflGPtnxCdf3\nuJ7o0Gh/hySEOEVWe0AvB57UWncHngV+0Fr3xdQe0qzex1njuQuYrrVeqbXeCFwFDFBK9S/jLbcC\n72qtF2itd2qt3wGeQubF1DnZ+dlsOejTckqH+A78re/fJKEIUU9YTSpNMTUFMLWVswC01vuAxzCJ\nwYoemCavNa4DWus0TGJKKeP6OZghy+7sQKzFzxO1wJaDW5i9djaLflhEenb6id8ghKizrCaVI5hm\nLoAdQCulVJTz9TagtcX7tHQ+7vM6vh9o5X2x1nqD1vpX12ulVDRwG6YfRtQBdoedZVuXkZWfRWFx\nIYt/XCwTGYWox6wmla+BvymlwoHtmMUkL3ae64sZXmxFBGB3DlF2lw9UuJCTUioCeB8IB6Za/Dzh\nZwG2AG5MvpGggCCiQ6O5pOMlMpFRiHrMalKZjelIX661LsJ0rj+nlFoPPIrpaLciFwhw7s/iLhST\nqMqklGoErAJ6AiO01rstfp6oYWXVQlpEt+CW3rfw4KAH6dyksx+iEkLUFKv7qfwEnIkZBQZmiO/D\nQAam32Oyxc/73fnoPastAd8mMQCUUm2Bb4B2wDla6w0WP0vUsMzcTP7x3T/Ymem7u3S3pt2ICo0q\n411CiPrE6jyVZ4GXtdafAmitHZgaSmVtArIx812WOu/dFmgLfFnG5zYBvsBsW9xfdp6svbb+uZVF\nPywiryiPjOMZPDDoAVmaXojTkNV5KjcBH57qh2mt85VSC4EnlFIZmIUpFwJrtdbfOYccxwGZWusC\nzDpjjYChQK5SyrVvrKO8yZLCP5o1aFayRteh3EOkZqTSo1kPP0clhKhpVvtUvqPsIb8n437MhMal\nmFrIbsw8GID+mFnz/Z2DAi4FGgDfO4+7SplNZcJ/YsNjuabrNTSObMx9A+6ThCLEacpqTWUjMEUp\ndTnwE+C9zpdDa32LlRs5O/rvdRbvc2soXQIGINBifKIG5RXlkZ6dTrvYdh7H+7ToQ49mPQgODPZT\nZEIIf7OaVC7DzCUJB/qVcV4mHpwmUjNSWbJpCXlFecwcPNNnJrwkFCFOb1aXvm934qtEfVdkL+KV\nTa9w6PghAF7Z9Aq397ld5p0IIUqU26eilBqqlGpQk8GI2i0oIIjx3ccDZjHIvi37SkIRQnioqKay\nEtPU9b3rgFLqL5gFHg9Vd2DC/+wOu8+uix0bdWR89/F0a9pNFoEUQvioaPSXx6+gzn1Q/g20qdaI\nRK2w5eAWHvziQfZn7/c5N7D1QEkoQogyVXbzb2nrOA38b/v/eHb9s/x57E9e/ull7A67v0MSQtQR\nlU0q4jTQo1kPggJMy+ih3EMcPHbQzxEJIeqKSu1RL04PzaOaM7LDSP489idjO4+lQYiM1xBCWHOi\npFLW/BOZk1JPFBQX8L/t/yMxLpEuTbp4nLuww4UysksIUWknSirvKKXyvY69X8Yxh9ZaVWFcoprt\nObqHRT8s4tDxQ8RHxDNz8ExCAkNKzktCEUKcjIqSystlHFtXXYGImhUfHk9eUR4Ah44fYt2edQxp\nN8TPUQkh6rpyk4rWekJNBiJqVmRIJJd0vIRlqcu49MxLGdBqgL9DEkLUA9JRX8/ZHXbW7VmHAwfn\ntDnH49zA1gPpldCLiOAIP0UnhKhvJKnUY5m5mTyz/hnSs9MJDQqlR7MeHpMWbTabJBQhRJWSeSr1\nWMOwhtic81Xzi/L5dMenfo5ICFHfSVKpRxwOz9HeAbYALut0GaFBoYzpOIYxHcf4KTIhxOlCmr/q\ngYzjGSzfthyA63tc73Guc+POzB02l8iQSH+EJoQ4zUhSqeMOHT/EA58/gN1hx2azMTxxOAlRCSXn\nbTabJBQhRI2R5q86Lj4ins5NOgOm+Wtj+kY/RySEOJ1JTaUOSTuSht1hp31se4/jo88YTUFxAaPP\nGE2H+A5+ik4IISSp1Anp2em8tvk1th3aRvvY9tw34D6PZVTaNGzDPf3u8WOEQghhSPNXHRARHMGu\nw7sA2HV4FzsP7/RzREIIUTZJKrVMenY6uYW5HsdiwmLo27IvAbYA+rbsS1RIlJ+iE0KIiknzVy2x\n9c+trNi+gm2HtnFF5ysY1n6Yx/nRZ4xm9BmjiQ2P9VOEQghxYpJUaonM3Ey2HdoGwNrdaxnabqhH\nv0mdSSZ2OxQXQ1GRKXZ7afGanInNZkpAgCmBgaYEBZlHWX5fiDpHkkoNO5J3hO2HttOnRR+P470S\nevHmL29SWFxIQlQCuUW5Nbcul8MB+fmQkwPHjsHx46WPubmmHD8OeXmlJT/flIICUwoLzaO9Cvez\nDwoyJSSktISFQWioKWFhpoSHl5aIiNISGWlKeLgkKCFqiCSVGmJ32Pnnd/9EH9IAdIjvQMOwhiXn\nw4LCmNhzIq2iW1VNrSQ/H7KySkt2dtnFlUiKi0/9M6uaq7aTl3dq97HZShNMgwaeJSqqtERHm8cG\nDUwyE0JUmvzPqSYOh8Oj+SrAFoDNZitZn+v7fd9zXuJ5Hu/p1rRbxTe1200iOHrUJIqjR8t+npVl\nkoo/2GylzVeuEhBQ2szlusbhKC2u5rHi4tKms6pMcg6HSZ45OXDggLX3RER4JproaM/ifiwk5MT3\nE+I0IUmlCh3IOcCG/Rv4+cDPpLROIaVNisf5Pgl9SM1IRcUrmjVoVnrCvVZRVqJwlexs336JqhIS\n4vnbvHszknvzkqvZydUEFRpq3hscbEpV9YU4HCa5uJrVXMXV7ObeFJebax6PH/csx46ZcjI1Hdc9\nrCSh0FDfpOOdeFzPQ0OlKU7Ua5JUqtDWjK18pD8CHEQSQkq4MonAmTB6H82k69HeRO8tgq8+gay3\nqq9WERRkvshiYjy/1FzNO9HRns1AwcFVH8OpsNlKE1XEKfYtFReb5OJq6nM1++XkeDYDujcTViZ5\n56tu7oUAAA+MSURBVOfDn3+aciKuvxfXn79785t7k5zrufQHiTpGksqJuDqxjx2jKPso+o8tpB7c\nyvHco4yP7F/65ZSTQ7esA7xesB4KC9nuWEf+0lRCCSy5VaiznJLISJMoXCU62vO1K5HIl1GpwMDS\nGoMVruYy1y8Ebr8YePRRuZ5XpqmuqAgOHzbFioAAzxqk67l7cQ1KcD26apUBMg1N1LwaTypKqUBg\nDnADEAV8AtyhtS6znUEp1Rv4J5AM7AMe1lovOekA9u0z/6Fdo5rcRze5Sm6u5ygo54imfFshz0R/\nC0AANq44etAjacQBI8Ka0Kq4AZ2KYj3OVSgoqPRL70QJQzqQq5/NVlp7SEio+FqHw/w78U405T0v\nLKxcLK5+tOzsyv8cYWG+zZcREaUj5twf3Yt3E2egxX/HQuCfmspM4HrgOuAQsBB4FxjofaFSqjHw\nKfAacBMwHFislPpDa/1ZpT/57bdh1aoKL/k65A900BF2BWYxOac7sY7SukWkI5gWxZHsCzyGHQfb\ng47SpSjO4/2X5LUzT0JDPZs5ympndxWpVdRd7iPLmjc/8fX5+WWPwPN+dJVTGfnm6nM6Va5h3d79\naK5H9xIc7Pm8vBIUVPro/jw4uHT+kqiTajSpKKVCgLuAO7XWK53HrgJ+U0r111p/4/WWicBR4C6t\ntR1IVUr1BCYDlU8qO3YAcMxWyN6AYzS2hxHnCPO4ZEPwQVKDjgCwKyiLXoWNzT90Z9PD2SEODoc6\n6BjdjqSGSRAd59seHhVV+/ooRO3g+lJu1Mja9UVFpQMOXInGVYvOyfGcU+Q+QKEqkol7DEVF5t41\nwX0EoSvpuE+K9X7uXdwn0rq/dp9k63q02TzPlVVcIxe9H8s67z6ht6zjFRX30ZHuidX7uoqucT0/\n0aMrrmpQ0zWVHpgmrzWuA1rrNKVUGpACeCeVFOBLZ0JxWQMsVErZtNaVGwp1xRW89eFcVudpCArk\nipj+DIvvU9osEB5OuyPfkZrxHQQFsbP9MHolX+vR5HReBbcXosoFBZU2f1aG3V46Is67qde9uCay\nuj/3fqyuEYflcThMM2FlmwqFdcHBMGoUjBhR5beu6aTS0vm4z+v4fqBVOdf/WMa1EUA8kFGpT09M\nJH7M1fDLWwDsbXUm9LjM45LkI82IOdyNtg3b0iqmFQRIH4aogwICSoeEnwrXF7xr9QT3VRTcn3uv\nrOD+vLCwdHi4q7heez8WF1ftqgyibIWFpivg/POrvMZS09+YEYBda+39K0g+EPb/7Z17sN3TFcc/\n95LQqgpS2lQmEcZXU1GPRhFBRko8IuJZqkRrKMVQFVQnXvVK1ShlGCoeqXeUNBpEuEGIZ71jjXe9\ngsQrQcUj/WPtX/Lzyzn33Nyeey/ntz4zZ37n7L1/57f3mnN+67f2XnutKu2Ldnzmf1upfU16r9Cb\nbkt1o9fyvej5zcWnIPr06EOfHn3a89VB0Hg0NS1aI+ksvvhi0ZRbfjNsvqwtr+Km2vz7bNNt9j7f\nvhivrtLnfHl+E29xU2+19/DlttVeWbviOcXzs8/FNtXKl1nGrZQOmALrbKXyMdAsaWkz+yxXvgzw\nYZX2RS/c7HOl9jVZc6U1OWfbc2huCnfLIPhK0tzc+YosqBudfWd9JR2LbjK9WHxKLGtfqe08fAF/\niWluag6FEgRB0EF0tqXyGDAX2AIYDyCpL9AXuKtC+3uA/QqL8kOA6YXF+yJLAcyaNas+vQ6CICgB\nuXtmuzcnNS3Iz711ApJOxzc+jgLewvep/NfMtkwuxysB75jZfEmrAgZcA5wNDAX+DAwzsztaucZm\nwN0dOY4gCIIGZrCZ3dOeE7vCtekPQDfcUulG2lGf6jYF7sStkRYze1PSMOAc3AvsZWCf1hRK4kHc\nHfkN4CsY0z0IguAryVL4ksOD7f2CTrdUgiAIgsYlVqyDIAiCuhFKJQiCIKgboVSCIAiCuhFKJQiC\nIKgbpQlstaR5XBqB5JI9Fo+D+Q3gfuBIM3sy1W+d6gU8CxxtZpO7qLsdjqSN8b1PQ82sJZWVQgaS\n9gdG4zH2ngaOyrwoyyADScsBpwO74OGf7sP/C0+n+oaWgaQLgKXNbP9cWatjlrQK8Ff8/jEfGAcc\nV4iGshhlslROYFEel83xYJUTurJDHYmkZuAfwFrACNxd+31gqqSVJfUHJgLX4QnQbgJulPTDLupy\nh5JuKleQ29RVFhlI2hc4D7+pDgCmARMl9S2LDPBEf0OB3YBN8JiCt0hatpFlIKlJ0knAgYXytox5\nAvBdfLP6KGA/4MRa1yyFS3HaVDkbz+NyaSrrC7wIDKqQx+Vrj6T1gUeA/mY2M5UtA7wDHAQMAmRm\nW+bOuRN41swO6PwedyySLsQV7JbAEDNrSWUNLQNJTfjv/HIzG5PKmvHfxlj8htHQMgCQNBs40czO\nTZ/7A08BG+I33IaTgaR+wN+AdYCPgCmZpVLrty9pEzwVST8zezHV7wucC3zHzD6hCmWxVCrmcQFe\nwjdJNiL/AXbAIxJkZKFtVsTH3VI4p4UGlIek7YDtgcMKVWWQgYA+eFQKAMzsCzNbz8yupBwyAHgb\n2EPSKukh81fAu8ALNK4MNsXjJw7AHyzy1BrzYODlTKHk6pfH76dVKcuaypLmcfnaY2ZzgJsLxYfh\nayu3ASdTAnlI6ok/re2H30TyrEbjy2CtdOwh6Q78qfUZ4JhkoZdBBgAH4FE83sSjbHwEbG1m70lq\nSBmY2XgWxVgsVtcac7V6Upv7q123LJbKkuZxaTgk7QicBpyVpsOq5appNHlcCEw0s1sq1JVBBt9O\nx8uAi4FhwJPAHZJ+QDlkALAmMAu3WAcBtwLXJ4VSFhnkqTXmxerT/XMBNeRSFktlSfO4NBSSRgEX\nAVfjHkBQPVdNw8gjzQGvD6xbpUnDywDIHqROSdNdSPoNPr1xECWQgaTV8d//ZmY2I5XtBcwEjqAE\nMqhArTEvVi+pG9BEDbmUxVJZ0jwuDYOk43BXwAvwYJzZukq1XDWNJI9RuBk/S9I8Fq0vTU4ulmWQ\nQTaWJ7KClEZiJrA65ZDBj3Gvv4eygvTU/W/cgimDDIrUGnO1eqghl7IolXweF6BmHpeGQNJofG/O\nGDM7NJeTBny/xhaFU4bQWPLYG+iPLyyuB2yTyvcHxlAOGTyCP1kOzAqSR1h/4HnKIYNX03GhxZqT\nwbOUQwZFao35HqCfpN6F+rnAo619cSlciqH1PC5d16uOQ9K6+A3lMuC4QvVcoB/wML7OchWwF3AU\nsEHmgtxopPnzV1jkUjyAEshA0sl4eon9cYvlYODXuKLtToPLIG18vgdYDh/7bOBw4Oe448K3aXwZ\ntADP5VyKW/3tJ6V7L76GcgiwKn4vOd/MTmjtWmWxVMDzuPwd94a4E8/NsmuX9qhj+Rlu8v8SzyuT\nfx1hZk8AI3EZPArsCAxvlD9RWyiRDMYAf8IT3T2Bb/7b2pyGl4GZfQ4Mxz2WrgZm4NNeg83s5TLI\noEitMadZjZG4t9zd+BT6xcBJtb67NJZKEARB0PGUyVIJgiAIOphQKkEQBEHdCKUSBEEQ1I1QKkEQ\nBEHdCKUSBEEQ1I1QKkEQBEHdKEvsr6DBkXQpnoStNaaZ2ZZpI9hnZja0wztWBUkr4ZtTh5rZc1Xa\njML3B/Q2s1crtemgvk0FLjSzazvrmkHjEEolaBROxuObZZwPfMaXc6h8kI4H4zuFu5JzgWurKZQu\n5ghgiqQWM3urqzsTfL0IpRI0BGb2PB7LCgBJH+DWyIwKbZ/uzL4VkTQQT2vbq1bbrsDMHpc0A49C\nUUxsFgStEkolKB3F6S9JC/CUspsDI/A8EufiYU3OBnbBQ4Ffhie3WpDOWxnP+z4Cz4j3MHC0mU2v\n0YWj8dSus3N9agZ+jyeT6oknUlssoKGkA1ObtfE10Zl4WPsJaUrtdWBsljo4nbMCnkvkd2Z2nqQ9\ngWPwBF5z07VGm9nruUtdCVwi6WQze7vGeIJgIbFQHwTOmXigwRHAJOBE4AE8Q+DOwA14LpqdASQt\nC0zFkz4di8dQeheYmiyRikj6Fh5naUKhaixwPB5faSQwB1dY+XMPA85L526PB0T8FLhK0vfN7B1g\nYirPsweeB+MqSYOAK9J3DAN+C2yFx8XLMwmPHbdTtbEEQSXCUgkC5xEzOxxA0mOkaNZmdkgquwO/\nWW+C35B/gYdS38jMHkptJuOK6FTgp1WuMxjoltqRzuuBTzOdaWZZwL5bJfXCb/wZq+NWyKm5c1/C\nLaRNgeuAS4DdJA3KWUz7AP80s3ckDcYV5Rlm9kn6jjnAQElNmRVmZh9KmomHO7+oTRIMAkKpBEHG\nwpzbZjZH0ueFsgWS3gV6pKKt8GRFj0rK/48mAcdK6m5m8ytcp186vpgr2xhXNDcV2l5LTqmY2RGw\nUAmtjUfaHZKqu6fjbXj+kL2B6ZLWwNPn7pDqpwGnAE9Kuh74F3CbmU2u0NeX8JxDQdBmYvorCJy5\nFcpaS5u6Mp5V8tPC63j8Bt+zynkrpONHubKV0rG4dvFG/oOkNSTdjk+zTcPzX3RL1U0AKbPn5cDu\nkrrjVsobwC2p/j5gO+AFfOrrLuA1SYdW6OuHuf4GQZsIpRIE7eN9fJF8YJXX7CrnZeUrVChbtdB2\n5exNWsi/GVdWA4HlzOxHFNZdEuNwRTUU2B0Yn3KKAGBmt5rZNsCKeJ6RJ4BzJG1Y+J4VWxlHEFQk\npr+CoH1MA7YFXs97TaUsi32ovhHz5XRcDXgvvb8X9y7bLb3PGJ573xMQcEi2hpPYNh0XPiCa2XOS\n7sIdC9bGvdey/p2BT5n9xMw+AiZJegVP1NQbX5/JWA14vMo4gqAioVSCoH2MAw4Fbpd0Kr6+sgM+\npXRituBdgbtxBbIZ8CSAmc1LyuiPkj4GWnDvroVKxczeSovyh0l6Hd/IuQ2eFhc8VW6xf+OABwv7\ncm7Hp80ulTQen6objVskLVmj5Ia8Dp4xMgjaTEx/BUE7MLN5uCfX/cBZ+IL3MODQ1nJ4J+tgMoss\njKz8NFxB7IG7BQ8AjiycvhO+PnI5cA2+wD8ceCb1Jc+kdBxXuM4UYE9cYdyA5yefBwwxs/dyTbcG\n5uNTbkHQZiKdcBB0MpI2AqYDfc3stQ66xj542Jrvmdn77Th/CvBU5mYdBG0lLJUg6GTM7AHgRha3\nRP5vJI1M03F/AS5qp0LZANiAyk4AQdAqoVSCoGs4GNhV0pp1/t6++DTafXjsrvZwFu4QMKtenQrK\nQ0x/BUEQBHUjLJUgCIKgboRSCYIgCOpGKJUgCIKgboRSCYIgCOpGKJUgCIKgboRSCYIgCOrG/wDK\ne236ks8bQQAAAABJRU5ErkJggg==\n",
      "text/plain": [
       "<matplotlib.figure.Figure at 0x23713b9c940>"
      ]
     },
     "metadata": {},
     "output_type": "display_data"
    }
   ],
=======
   "execution_count": 14,
   "metadata": {},
   "outputs": [],
>>>>>>> 49073fbf9b890181992466a15932c049a36b0bc4
   "source": [
    "plot_results(system.S, system.I, system.R)\n",
    "savefig('chap05-fig01.pdf')"
   ]
  },
  {
   "cell_type": "markdown",
   "metadata": {},
   "source": [
    "### Using a DataFrame"
   ]
  },
  {
   "cell_type": "markdown",
   "metadata": {},
   "source": [
    "Instead of making three `TimeSeries` objects, we can use one `DataFrame`.\n",
    "\n",
    "We have to use `loc` to indicate which row we want to assign the results to.  But then Pandas does the right thing, matching up the state variables with the columns of the `DataFrame`."
   ]
  },
  {
   "cell_type": "code",
   "execution_count": 15,
   "metadata": {
    "collapsed": true
   },
   "outputs": [],
   "source": [
    "def run_simulation(system, update_func):\n",
    "    \"\"\"Runs a simulation of the system.\n",
    "    \n",
    "    Add a DataFrame to the System: results\n",
    "    \n",
    "    system: System object\n",
    "    update_func: function that updates state\n",
    "    \"\"\"\n",
    "    frame = DataFrame(columns=system.init.index)\n",
    "    frame.loc[system.t0] = system.init\n",
    "    \n",
    "    for t in linrange(system.t0, system.t_end):\n",
    "        frame.loc[t+1] = update_func(frame.loc[t], system)\n",
    "    \n",
    "    system.results = frame"
   ]
  },
  {
   "cell_type": "markdown",
   "metadata": {},
   "source": [
    "Here's how we run it, and what the result looks like."
   ]
  },
  {
   "cell_type": "code",
   "execution_count": 16,
   "metadata": {},
   "outputs": [],
   "source": [
    "tc = 3      # time between contacts in days \n",
    "tr = 4      # recovery time in days\n",
    "\n",
    "beta = 1 / tc      # contact rate in per day\n",
    "gamma = 1 / tr     # recovery rate in per day\n",
    "\n",
    "sir = make_system(beta, gamma)\n",
    "run_simulation(system, update1)\n",
    "system.results.head()"
   ]
  },
  {
   "cell_type": "markdown",
   "metadata": {},
   "source": [
    "We can extract the results and plot them."
   ]
  },
  {
   "cell_type": "code",
   "execution_count": 17,
   "metadata": {},
   "outputs": [],
   "source": [
    "frame = system.results\n",
    "plot_results(frame.S, frame.I, frame.R)"
   ]
  },
  {
   "cell_type": "markdown",
   "metadata": {},
   "source": [
    "**Exercise**  Suppose the time between contacts is 4 days and the recovery time is 5 days.  Simulate this scenario for 14 days and plot the results."
   ]
  },
  {
   "cell_type": "code",
   "execution_count": 18,
   "metadata": {},
   "outputs": [],
   "source": [
    "# Solution goes here"
   ]
  },
  {
   "cell_type": "markdown",
   "metadata": {},
   "source": [
    "### Metrics"
   ]
  },
  {
   "cell_type": "markdown",
   "metadata": {},
   "source": [
    "Given the results, we can compute metrics that quantify whatever we are interested in, like the total number of sick students, for example."
   ]
  },
  {
   "cell_type": "code",
   "execution_count": 19,
   "metadata": {
    "collapsed": true
   },
   "outputs": [],
   "source": [
    "def calc_total_infected(system):\n",
    "    \"\"\"Fraction of population infected during the simulation.\n",
    "    \n",
    "    system: System object with results.\n",
    "    \n",
    "    returns: fraction of population\n",
    "    \"\"\"\n",
    "    frame = system.results\n",
    "    return frame.S[system.t0] - frame.S[system.t_end]"
   ]
  },
  {
   "cell_type": "markdown",
   "metadata": {},
   "source": [
    "Here's an example.|"
   ]
  },
  {
   "cell_type": "code",
   "execution_count": 20,
   "metadata": {},
   "outputs": [],
   "source": [
    "system.beta = 0.333\n",
    "system.gamma = 0.25\n",
    "run_simulation(system, update1)\n",
    "print(system.beta, system.gamma, calc_total_infected(system))"
   ]
  },
  {
   "cell_type": "markdown",
   "metadata": {},
   "source": [
    "**Exercise:** Write functions that take a `System` object as a parameter, extract the `results` object from it, and compute the other metrics mentioned in the book:\n",
    "\n",
    "1.  The fraction of students who are sick at the peak of the outbreak.\n",
    "\n",
    "2.  The day the outbreak peaks.\n",
    "\n",
    "3.  The fraction of students who are sick at the end of the semester.\n",
    "\n",
    "Hint:  If you have a `TimeSeries` called `I`, you can compute the largest value of the series like this:\n",
    "\n",
    "    I.max()\n",
    "\n",
    "And the index of the largest value like this:\n",
    "\n",
    "    I.idxmax()\n",
    "\n",
    "You can read about these functions in the `Series` [documentation](https://pandas.pydata.org/pandas-docs/stable/generated/pandas.Series.html)."
   ]
  },
  {
   "cell_type": "code",
   "execution_count": 21,
   "metadata": {
    "collapsed": true
   },
   "outputs": [],
   "source": [
    "# Solution goes here"
   ]
  },
  {
   "cell_type": "code",
   "execution_count": 22,
   "metadata": {
    "scrolled": true
   },
   "outputs": [],
   "source": [
    "# Solution goes here"
   ]
  },
  {
   "cell_type": "code",
   "execution_count": 23,
   "metadata": {
    "collapsed": true
   },
   "outputs": [],
   "source": [
    "# Solution goes here"
   ]
  },
  {
   "cell_type": "code",
   "execution_count": 24,
   "metadata": {
    "scrolled": true
   },
   "outputs": [],
   "source": [
    "# Solution goes here"
   ]
  },
  {
   "cell_type": "code",
   "execution_count": 25,
   "metadata": {
    "collapsed": true
   },
   "outputs": [],
   "source": [
    "# Solution goes here"
   ]
  },
  {
   "cell_type": "code",
   "execution_count": 26,
   "metadata": {},
   "outputs": [],
   "source": [
    "# Solution goes here"
   ]
  },
  {
   "cell_type": "markdown",
   "metadata": {},
   "source": [
    "### What if?"
   ]
  },
  {
   "cell_type": "markdown",
   "metadata": {},
   "source": [
    "We can use this model to evaluate \"what if\" scenarios.  For example, this function models the effect of immunization by moving some fraction of the population from S to R before the simulation starts."
   ]
  },
  {
   "cell_type": "code",
   "execution_count": 27,
   "metadata": {
    "collapsed": true
   },
   "outputs": [],
   "source": [
    "def add_immunization(system, fraction):\n",
    "    \"\"\"Immunize a fraction of the population.\n",
    "    \n",
    "    Moves the given fraction from S to R.\n",
    "    \n",
    "    system: System object\n",
    "    fraction: number from 0 to 1\n",
    "    \"\"\"\n",
    "    system.init.S -= fraction\n",
    "    system.init.R += fraction"
   ]
  },
  {
   "cell_type": "markdown",
   "metadata": {},
   "source": [
    "Let's start again with the system we used in the previous sections."
   ]
  },
  {
   "cell_type": "code",
   "execution_count": 28,
   "metadata": {},
   "outputs": [],
   "source": [
    "tc = 3      # time between contacts in days \n",
    "tr = 4      # recovery time in days\n",
    "\n",
    "beta = 1 / tc      # contact rate in per day\n",
    "gamma = 1 / tr     # recovery rate in per day\n",
    "\n",
    "system = make_system(beta, gamma)\n",
    "system.beta, system.gamma"
   ]
  },
  {
   "cell_type": "markdown",
   "metadata": {},
   "source": [
    "And run the model without immunization."
   ]
  },
  {
   "cell_type": "code",
   "execution_count": 29,
   "metadata": {},
   "outputs": [],
   "source": [
    "run_simulation(system, update1)\n",
    "calc_total_infected(system)"
   ]
  },
  {
   "cell_type": "markdown",
   "metadata": {},
   "source": [
    "Now with 10% immunization."
   ]
  },
  {
   "cell_type": "code",
   "execution_count": 30,
   "metadata": {},
   "outputs": [],
   "source": [
    "system2 = make_system(beta, gamma)\n",
    "add_immunization(system2, 0.1)\n",
    "run_simulation(system2, update1)\n",
    "calc_total_infected(system2)"
   ]
  },
  {
   "cell_type": "markdown",
   "metadata": {},
   "source": [
    "10% immunization leads to a drop in infections of 16 percentage points.\n",
    "\n",
    "Here's what the time series looks like for S, with and without immunization."
   ]
  },
  {
   "cell_type": "code",
   "execution_count": 31,
   "metadata": {},
   "outputs": [],
   "source": [
    "plot(system.results.S, '-', label='No immunization')\n",
    "plot(system2.results.S, 'g--', label='10% immunization')\n",
    "\n",
    "decorate(xlabel='Time (days)',\n",
    "         ylabel='Fraction susceptible')\n",
    "\n",
    "savefig('chap05-fig02.pdf')"
   ]
  },
  {
   "cell_type": "markdown",
   "metadata": {},
   "source": [
    "Now we can sweep through a range of values for the fraction of the population who are immunized."
   ]
  },
  {
   "cell_type": "code",
   "execution_count": 32,
   "metadata": {},
   "outputs": [],
   "source": [
    "immunize_array = linspace(0, 1, 11)\n",
    "for fraction in immunize_array:\n",
    "    system = make_system(beta, gamma)\n",
    "    add_immunization(system, fraction)\n",
    "    run_simulation(system, update1)\n",
    "    print(fraction, calc_total_infected(system))"
   ]
  },
  {
   "cell_type": "markdown",
   "metadata": {},
   "source": [
    "This function does the same thing and stores the results in a `Sweep` object."
   ]
  },
  {
   "cell_type": "code",
   "execution_count": 33,
   "metadata": {
    "collapsed": true
   },
   "outputs": [],
   "source": [
    "def sweep_immunity(immunize_array):\n",
    "    \"\"\"Sweeps a range of values for immunity.\n",
    "    \n",
    "    immunize_array: array of fraction immunized\n",
    "    \n",
    "    returns: Sweep object\n",
    "    \"\"\"\n",
    "    sweep = SweepSeries()\n",
    "    for fraction in immunize_array:\n",
    "        system = make_system(beta, gamma)\n",
    "        add_immunization(system, fraction)\n",
    "        run_simulation(system, update1)\n",
    "        sweep[fraction] = calc_total_infected(system)\n",
    "    return sweep"
   ]
  },
  {
   "cell_type": "markdown",
   "metadata": {},
   "source": [
    "Here's how we run it."
   ]
  },
  {
   "cell_type": "code",
   "execution_count": 34,
   "metadata": {
    "collapsed": true
   },
   "outputs": [],
   "source": [
    "immunize_array = linspace(0, 1, 21)\n",
    "infected_sweep = sweep_immunity(immunize_array)"
   ]
  },
  {
   "cell_type": "markdown",
   "metadata": {},
   "source": [
    "And here's what the results look like."
   ]
  },
  {
   "cell_type": "code",
   "execution_count": 35,
   "metadata": {},
   "outputs": [],
   "source": [
    "plot(infected_sweep)\n",
    "\n",
    "decorate(xlabel='Fraction immunized',\n",
    "         ylabel='Total fraction infected',\n",
    "         title='Fraction infected vs. immunization rate',\n",
    "         legend=False)\n",
    "\n",
    "savefig('chap05-fig03.pdf')"
   ]
  },
  {
   "cell_type": "markdown",
   "metadata": {},
   "source": [
    "If 40% of the population is immunized, less than 4% of the population gets sick."
   ]
  },
  {
   "cell_type": "markdown",
   "metadata": {},
   "source": [
    "### Logistic function"
   ]
  },
  {
   "cell_type": "markdown",
   "metadata": {},
   "source": [
    "To model the effect of a hand-washing campaign, I'll use a [generalized logistic function](https://en.wikipedia.org/wiki/Generalised_logistic_function), which is a convenient function for modeling curves that have a generally sigmoid shape.  The parameters of the GLF correspond to various features of the curve in a way that makes it easy to find a function that has the shape you want, based on data or background information about the scenario."
   ]
  },
  {
   "cell_type": "code",
   "execution_count": 36,
   "metadata": {
    "collapsed": true
   },
   "outputs": [],
   "source": [
    "def logistic(x, A=0, B=1, C=1, M=0, K=1, Q=1, nu=1):\n",
    "    \"\"\"Computes the generalize logistic function.\n",
    "    \n",
    "    A: controls the lower bound\n",
    "    B: controls the steepness of the transition \n",
    "    C: not all that useful, AFAIK\n",
    "    M: controls the location of the transition\n",
    "    K: controls the upper bound\n",
    "    Q: shift the transition left or right\n",
    "    nu: affects the symmetry of the transition\n",
    "    \n",
    "    returns: float or array\n",
    "    \"\"\"\n",
    "    exponent = -B * (x - M)\n",
    "    denom = C + Q * exp(exponent)\n",
    "    return A + (K-A) / denom ** (1/nu)"
   ]
  },
  {
   "cell_type": "markdown",
   "metadata": {},
   "source": [
    "The following array represents the range of possible spending."
   ]
  },
  {
   "cell_type": "code",
   "execution_count": 37,
   "metadata": {},
   "outputs": [],
   "source": [
    "spending = linspace(0, 1200, 21)\n",
    "spending"
   ]
  },
  {
   "cell_type": "markdown",
   "metadata": {},
   "source": [
    "`compute_factor` computes the reduction in `beta` for a given level of campaign spending.\n",
    "\n",
    "`M` is chosen so the transition happens around \\$500.\n",
    "\n",
    "`K` is the maximum reduction in `beta`, 20%.\n",
    "\n",
    "`B` is chosen by trial and error to yield a curve that seems feasible."
   ]
  },
  {
   "cell_type": "code",
   "execution_count": 38,
   "metadata": {
    "collapsed": true
   },
   "outputs": [],
   "source": [
    "def compute_factor(spending):\n",
    "    \"\"\"Reduction factor as a function of spending.\n",
    "    \n",
    "    spending: dollars from 0 to 1200\n",
    "    \n",
    "    returns: fractional reduction in beta\n",
    "    \"\"\"\n",
    "    return logistic(spending, M=500, K=0.2, B=0.01)"
   ]
  },
  {
   "cell_type": "markdown",
   "metadata": {},
   "source": [
    "Here's what it looks like."
   ]
  },
  {
   "cell_type": "code",
   "execution_count": 39,
   "metadata": {},
   "outputs": [],
   "source": [
    "percent_reduction = compute_factor(spending) * 100\n",
    "\n",
    "plot(spending, percent_reduction)\n",
    "\n",
    "decorate(xlabel='Hand-washing campaign spending (USD)',\n",
    "         ylabel='Percent reduction in infection rate',\n",
    "         title='Effect of hand washing on infection rate',\n",
    "         legend=False)\n",
    "\n",
    "savefig('chap05-fig04.pdf')"
   ]
  },
  {
   "cell_type": "markdown",
   "metadata": {},
   "source": [
    "**Exercise:** Modify the parameters `M`, `K`, and `B`, and see what effect they have on the shape of the curve.  Read about the [generalized logistic function on Wikipedia](https://en.wikipedia.org/wiki/Generalised_logistic_function).  Modify the other parameters and see what effect they have."
   ]
  },
  {
   "cell_type": "markdown",
   "metadata": {},
   "source": [
    "### Hand washing"
   ]
  },
  {
   "cell_type": "markdown",
   "metadata": {},
   "source": [
    "Now we can model the effect of a hand-washing campaign by modifying `beta`"
   ]
  },
  {
   "cell_type": "code",
   "execution_count": 40,
   "metadata": {
    "collapsed": true
   },
   "outputs": [],
   "source": [
    "def add_hand_washing(system, spending):\n",
    "    \"\"\"Modifies system to model the effect of hand washing.\n",
    "    \n",
    "    system: System object\n",
    "    spending: campaign spending in USD\n",
    "    \"\"\"\n",
    "    factor = compute_factor(spending)\n",
    "    system.beta *= (1 - factor)"
   ]
  },
  {
   "cell_type": "markdown",
   "metadata": {},
   "source": [
    "Let's start with the same values of `beta` and `gamma` we've been using."
   ]
  },
  {
   "cell_type": "code",
   "execution_count": 41,
   "metadata": {},
   "outputs": [],
   "source": [
    "tc = 3      # time between contacts in days \n",
    "tr = 4      # recovery time in days\n",
    "\n",
    "beta = 1 / tc      # contact rate in per day\n",
    "gamma = 1 / tr     # recovery rate in per day\n",
    "\n",
    "beta, gamma"
   ]
  },
  {
   "cell_type": "markdown",
   "metadata": {},
   "source": [
    "Now we can sweep different levels of campaign spending."
   ]
  },
  {
   "cell_type": "code",
   "execution_count": 42,
   "metadata": {},
   "outputs": [],
   "source": [
    "spending_array = linspace(0, 1200, 13)\n",
    "\n",
    "for spending in spending_array:\n",
    "    system = make_system(beta, gamma)\n",
    "    add_hand_washing(system, spending)\n",
    "    run_simulation(system, update1)\n",
    "    print(spending, system.beta, calc_total_infected(system))"
   ]
  },
  {
   "cell_type": "markdown",
   "metadata": {},
   "source": [
    "Here's a function that sweeps a range of spending and stores the results in a `Sweep` object."
   ]
  },
  {
   "cell_type": "code",
   "execution_count": 43,
   "metadata": {
    "collapsed": true
   },
   "outputs": [],
   "source": [
    "def sweep_hand_washing(spending_array):\n",
    "    \"\"\"Run simulations with a range of spending.\n",
    "    \n",
    "    spending_array: array of dollars from 0 to 1200\n",
    "    \n",
    "    returns: Sweep object\n",
    "    \"\"\"\n",
    "    sweep = SweepSeries()\n",
    "    for spending in spending_array:\n",
    "        system = make_system(beta, gamma)\n",
    "        add_hand_washing(system, spending)\n",
    "        run_simulation(system, update1)\n",
    "        sweep[spending] = calc_total_infected(system)\n",
    "    return sweep"
   ]
  },
  {
   "cell_type": "markdown",
   "metadata": {},
   "source": [
    "Here's how we run it."
   ]
  },
  {
   "cell_type": "code",
   "execution_count": 44,
   "metadata": {
    "collapsed": true
   },
   "outputs": [],
   "source": [
    "spending_array = linspace(0, 1200, 20)\n",
    "infected_sweep = sweep_hand_washing(spending_array)"
   ]
  },
  {
   "cell_type": "markdown",
   "metadata": {},
   "source": [
    "And here's what it looks like."
   ]
  },
  {
   "cell_type": "code",
   "execution_count": 45,
   "metadata": {},
   "outputs": [],
   "source": [
    "plot(infected_sweep)\n",
    "\n",
    "decorate(xlabel='Hand-washing campaign spending (USD)',\n",
    "         ylabel='Total fraction infected',\n",
    "         title='Effect of hand washing on total infections',\n",
    "         legend=False)\n",
    "\n",
    "savefig('chap05-fig05.pdf')"
   ]
  },
  {
   "cell_type": "markdown",
   "metadata": {},
   "source": [
    "Now let's put it all together to make some public health spending decisions."
   ]
  },
  {
   "cell_type": "markdown",
   "metadata": {},
   "source": [
    "### Optimization"
   ]
  },
  {
   "cell_type": "markdown",
   "metadata": {},
   "source": [
    "Suppose we have \\$1200 to spend on any combination of vaccines and a hand-washing campaign."
   ]
  },
  {
   "cell_type": "code",
   "execution_count": 46,
   "metadata": {},
   "outputs": [],
   "source": [
    "num_students = 90\n",
    "budget = 1200\n",
    "price_per_dose = 100\n",
    "max_doses = int(budget / price_per_dose)\n",
    "dose_array = linrange(max_doses)\n",
    "max_doses"
   ]
  },
  {
   "cell_type": "markdown",
   "metadata": {},
   "source": [
    "We can sweep through a range of doses from, 0 to `max_doses`, model the effects of immunization and the hand-washing campaign, and run simulations.\n",
    "\n",
    "For each scenario, we compute the fraction of students who get sick."
   ]
  },
  {
   "cell_type": "code",
   "execution_count": 47,
   "metadata": {},
   "outputs": [],
   "source": [
    "for doses in dose_array:\n",
    "    fraction = doses / num_students\n",
    "    spending = budget - doses * price_per_dose\n",
    "    \n",
    "    system = make_system(beta, gamma)\n",
    "    add_immunization(system, fraction)\n",
    "    add_hand_washing(system, spending)\n",
    "    \n",
    "    run_simulation(system, update1)\n",
    "    print(doses, system.init.S, system.beta, calc_total_infected(system))"
   ]
  },
  {
   "cell_type": "markdown",
   "metadata": {},
   "source": [
    "The following function wraps that loop and stores the results in a `Sweep` object."
   ]
  },
  {
   "cell_type": "code",
   "execution_count": 48,
   "metadata": {
    "collapsed": true
   },
   "outputs": [],
   "source": [
    "def sweep_doses(dose_array):\n",
    "    \"\"\"Runs simulations with different doses and campaign spending.\n",
    "    \n",
    "    dose_array: range of values for number of vaccinations\n",
    "    \n",
    "    return: Sweep object with total number of infections \n",
    "    \"\"\"\n",
    "    sweep = SweepSeries()\n",
    "    for doses in dose_array:\n",
    "        fraction = doses / num_students\n",
    "        spending = budget - doses * price_per_dose\n",
    "        \n",
    "        system = make_system(beta, gamma)\n",
    "        add_immunization(system, fraction)\n",
    "        add_hand_washing(system, spending)\n",
    "        \n",
    "        run_simulation(system, update1)\n",
    "        sweep[doses] = calc_total_infected(system)\n",
    "\n",
    "    return sweep"
   ]
  },
  {
   "cell_type": "markdown",
   "metadata": {},
   "source": [
    "Now we can compute the number of infected students for each possible allocation of the budget."
   ]
  },
  {
   "cell_type": "code",
   "execution_count": 49,
   "metadata": {
    "collapsed": true
   },
   "outputs": [],
   "source": [
    "infected_sweep = sweep_doses(dose_array)"
   ]
  },
  {
   "cell_type": "markdown",
   "metadata": {},
   "source": [
    "And plot the results."
   ]
  },
  {
   "cell_type": "code",
   "execution_count": 50,
   "metadata": {},
   "outputs": [],
   "source": [
    "plot(infected_sweep)\n",
    "\n",
    "decorate(xlabel='Doses of vaccine',\n",
    "         ylabel='Total fraction infected',\n",
    "         title='Total infections vs. doses',\n",
    "         legend=False)\n",
    "\n",
    "savefig('chap05-fig06.pdf')"
   ]
  },
  {
   "cell_type": "markdown",
   "metadata": {},
   "source": [
    "**Exercise:** Suppose the price of the vaccine drops to $50 per dose.  How does that affect the optimal allocation of the spending?"
   ]
  },
  {
   "cell_type": "markdown",
   "metadata": {},
   "source": [
    "**Exercise:** Suppose we have the option to quarantine infected students.  For example, a student who feels ill might be moved to an infirmary, or a private dorm room, until they are no longer infectious.\n",
    "\n",
    "How might you incorporate the effect of quarantine in the SIR model?"
   ]
  },
  {
   "cell_type": "code",
   "execution_count": 51,
   "metadata": {
    "collapsed": true
   },
   "outputs": [],
   "source": [
    "# Solution goes here"
   ]
  },
  {
   "cell_type": "code",
   "execution_count": null,
   "metadata": {
    "collapsed": true
   },
   "outputs": [],
   "source": []
  },
  {
   "cell_type": "code",
   "execution_count": null,
   "metadata": {
    "collapsed": true
   },
   "outputs": [],
   "source": []
  }
 ],
 "metadata": {
  "kernelspec": {
   "display_name": "Python 3",
   "language": "python",
   "name": "python3"
  },
  "language_info": {
   "codemirror_mode": {
    "name": "ipython",
    "version": 3
   },
   "file_extension": ".py",
   "mimetype": "text/x-python",
   "name": "python",
   "nbconvert_exporter": "python",
   "pygments_lexer": "ipython3",
   "version": "3.6.1"
  }
 },
 "nbformat": 4,
 "nbformat_minor": 1
}
