{
 "cells": [
  {
   "cell_type": "code",
   "execution_count": 7,
   "metadata": {},
   "outputs": [],
   "source": [
    "%matplotlib inline\n",
    "\n",
    "from modsim import *\n",
    "\n",
    "init = State(BAC=0)\n",
    "person = System(init = init, t0=0, t_end=12, \n",
    "                gender = .88, \n",
    "                weight = 130, \n",
    "                drink = 8,\n",
    "                percent = .05, drinking_time = 1, dt = 1)"
   ]
  },
  {
   "cell_type": "code",
   "execution_count": 8,
   "metadata": {
    "collapsed": true
   },
   "outputs": [],
   "source": [
    "def run_simulation(state, system):\n",
    "    unpack(system)\n",
    "    #alc = drink*percent\n",
    "    alc = 6*.6\n",
    "    \n",
    "    frame = TimeFrame(columns = init.index)\n",
    "    frame.loc[t0] = init\n",
    "    ts = linrange(t0, t_end-dt, dt)\n",
    "    \n",
    "    BAC = state.BAC\n",
    "\n",
    "    \n",
    "    for t in ts:\n",
    "        \n",
    "        if t < drinking_time:\n",
    "            #drinking phase\n",
    "            BAC += ((alc/(gender*weight*(drinking_time)))-((.2*BAC)/(BAC+1))) *(dt)\n",
    "            frame.loc[t+dt] = BAC\n",
    "\n",
    "            \n",
    "        else:\n",
    "            #recovery phase\n",
    "            BAC += (-((.2*BAC)/(BAC+1))) * (dt)\n",
    "            frame.loc[t+dt] = BAC\n",
    "\n",
    "            \n",
    "        system.results = frame"
   ]
  },
  {
   "cell_type": "code",
   "execution_count": 9,
   "metadata": {},
   "outputs": [
    {
     "data": {
      "text/plain": [
       "0     0.000000\n",
       "1     0.031469\n",
       "2     0.025367\n",
       "3     0.020419\n",
       "4     0.016417\n",
       "5     0.013187\n",
       "6     0.010584\n",
       "7     0.008489\n",
       "8     0.006806\n",
       "9     0.005454\n",
       "10    0.004369\n",
       "11    0.003499\n",
       "12    0.002802\n",
       "Name: BAC, dtype: float64"
      ]
     },
     "execution_count": 9,
     "metadata": {},
     "output_type": "execute_result"
    }
   ],
   "source": [
    "run_simulation(init, person)\n",
    "person.results.BAC"
   ]
  },
  {
   "cell_type": "code",
   "execution_count": 10,
   "metadata": {},
   "outputs": [
    {
     "data": {
      "image/png": "[encoded data removed]",
      "text/plain": [
       "<matplotlib.figure.Figure at 0x22bb6b29438>"
      ]
     },
     "metadata": {},
     "output_type": "display_data"
    }
   ],
   "source": [
    "\n",
    "newfig()\n",
    "plot(person.results.BAC, label='5%')\n",
    "decorate(xlabel='Time (hours)',\n",
    "         ylabel='BAC')"
   ]
  },
  {
   "cell_type": "code",
   "execution_count": null,
   "metadata": {
    "collapsed": true
   },
   "outputs": [],
   "source": []
  }
 ],
 "metadata": {
  "kernelspec": {
   "display_name": "Python 3",
   "language": "python",
   "name": "python3"
  },
  "language_info": {
   "codemirror_mode": {
    "name": "ipython",
    "version": 3
   },
   "file_extension": ".py",
   "mimetype": "text/x-python",
   "name": "python",
   "nbconvert_exporter": "python",
   "pygments_lexer": "ipython3",
   "version": "3.6.1"
  }
 },
 "nbformat": 4,
 "nbformat_minor": 2
}
